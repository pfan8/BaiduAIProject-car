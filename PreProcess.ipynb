{
 "cells": [
  {
   "cell_type": "code",
   "execution_count": 34,
   "metadata": {},
   "outputs": [],
   "source": [
    "import numpy as np\n",
    "import pandas as pd\n",
    "import re\n",
    "import jieba\n",
    "from multiprocessing import cpu_count, Pool"
   ]
  },
  {
   "cell_type": "code",
   "execution_count": 3,
   "metadata": {},
   "outputs": [
    {
     "name": "stdout",
     "output_type": "stream",
     "text": [
      "<class 'pandas.core.frame.DataFrame'>\n",
      "RangeIndex: 82943 entries, 0 to 82942\n",
      "Data columns (total 6 columns):\n",
      "QID         82943 non-null object\n",
      "Brand       81642 non-null object\n",
      "Model       81642 non-null object\n",
      "Question    82943 non-null object\n",
      "Dialogue    82941 non-null object\n",
      "Report      82873 non-null object\n",
      "dtypes: object(6)\n",
      "memory usage: 3.8+ MB\n",
      "<class 'pandas.core.frame.DataFrame'>\n",
      "RangeIndex: 20000 entries, 0 to 19999\n",
      "Data columns (total 5 columns):\n",
      "QID         20000 non-null object\n",
      "Brand       19987 non-null object\n",
      "Model       19987 non-null object\n",
      "Question    20000 non-null object\n",
      "Dialogue    20000 non-null object\n",
      "dtypes: object(5)\n",
      "memory usage: 781.4+ KB\n"
     ]
    }
   ],
   "source": [
    "train_df = pd.read_csv('data/AutoMaster_TrainSet.csv')\n",
    "test_df = pd.read_csv('data/AutoMaster_TestSet.csv')\n",
    "\n",
    "train_df.info()\n",
    "test_df.info()"
   ]
  },
  {
   "cell_type": "code",
   "execution_count": 4,
   "metadata": {},
   "outputs": [
    {
     "data": {
      "text/html": [
       "<div>\n",
       "<style scoped>\n",
       "    .dataframe tbody tr th:only-of-type {\n",
       "        vertical-align: middle;\n",
       "    }\n",
       "\n",
       "    .dataframe tbody tr th {\n",
       "        vertical-align: top;\n",
       "    }\n",
       "\n",
       "    .dataframe thead th {\n",
       "        text-align: right;\n",
       "    }\n",
       "</style>\n",
       "<table border=\"1\" class=\"dataframe\">\n",
       "  <thead>\n",
       "    <tr style=\"text-align: right;\">\n",
       "      <th></th>\n",
       "      <th>QID</th>\n",
       "      <th>Brand</th>\n",
       "      <th>Model</th>\n",
       "      <th>Question</th>\n",
       "      <th>Dialogue</th>\n",
       "      <th>Report</th>\n",
       "    </tr>\n",
       "  </thead>\n",
       "  <tbody>\n",
       "    <tr>\n",
       "      <th>0</th>\n",
       "      <td>Q1</td>\n",
       "      <td>奔驰</td>\n",
       "      <td>奔驰GL级</td>\n",
       "      <td>方向机重，助力泵，方向机都换了还是一样</td>\n",
       "      <td>技师说：[语音]|车主说：新的都换了|车主说：助力泵，方向机|技师说：[语音]|车主说：换了...</td>\n",
       "      <td>随时联系</td>\n",
       "    </tr>\n",
       "    <tr>\n",
       "      <th>1</th>\n",
       "      <td>Q2</td>\n",
       "      <td>奔驰</td>\n",
       "      <td>奔驰M级</td>\n",
       "      <td>奔驰ML500排气凸轮轴调节错误</td>\n",
       "      <td>技师说：你这个有没有电脑检测故障代码。|车主说：有|技师说：发一下|车主说：发动机之前亮故障...</td>\n",
       "      <td>随时联系</td>\n",
       "    </tr>\n",
       "    <tr>\n",
       "      <th>2</th>\n",
       "      <td>Q3</td>\n",
       "      <td>宝马</td>\n",
       "      <td>宝马X1(进口)</td>\n",
       "      <td>2010款宝马X1，2011年出厂，2.0排量，通用6L45变速箱，原地换挡位PRND车辆闯...</td>\n",
       "      <td>技师说：你好，4缸自然吸气发动机N46是吧，先挂空档再挂其他档有没有闯动呢，变速箱油液位是否...</td>\n",
       "      <td>行驶没有顿挫的感觉，原地换挡有闯动，刹车踩重没有，这是力的限制的作用，应该没有问题</td>\n",
       "    </tr>\n",
       "    <tr>\n",
       "      <th>3</th>\n",
       "      <td>Q4</td>\n",
       "      <td>Jeep</td>\n",
       "      <td>牧马人</td>\n",
       "      <td>3.0V6发动机号在什么位置，有照片最好！</td>\n",
       "      <td>技师说：右侧排气管上方，缸体上靠近变速箱|车主说：[图片]|车主说：是不是这个？|车主说：这...</td>\n",
       "      <td>举起车辆，在左前轮这边的缸体上</td>\n",
       "    </tr>\n",
       "    <tr>\n",
       "      <th>4</th>\n",
       "      <td>Q5</td>\n",
       "      <td>奔驰</td>\n",
       "      <td>奔驰C级</td>\n",
       "      <td>2012款奔驰c180怎么样，维修保养，动力，值得拥有吗</td>\n",
       "      <td>技师说：家庭用车的话，还是可以入手的|技师说：维修保养费用不高|车主说：12年的180市场价...</td>\n",
       "      <td>家庭用车可以入手的，维修保养价格还可以。车况好，价格合理可以入手</td>\n",
       "    </tr>\n",
       "  </tbody>\n",
       "</table>\n",
       "</div>"
      ],
      "text/plain": [
       "  QID Brand     Model                                           Question  \\\n",
       "0  Q1    奔驰     奔驰GL级                                方向机重，助力泵，方向机都换了还是一样   \n",
       "1  Q2    奔驰      奔驰M级                                   奔驰ML500排气凸轮轴调节错误   \n",
       "2  Q3    宝马  宝马X1(进口)  2010款宝马X1，2011年出厂，2.0排量，通用6L45变速箱，原地换挡位PRND车辆闯...   \n",
       "3  Q4  Jeep       牧马人                              3.0V6发动机号在什么位置，有照片最好！   \n",
       "4  Q5    奔驰      奔驰C级                       2012款奔驰c180怎么样，维修保养，动力，值得拥有吗   \n",
       "\n",
       "                                            Dialogue  \\\n",
       "0  技师说：[语音]|车主说：新的都换了|车主说：助力泵，方向机|技师说：[语音]|车主说：换了...   \n",
       "1  技师说：你这个有没有电脑检测故障代码。|车主说：有|技师说：发一下|车主说：发动机之前亮故障...   \n",
       "2  技师说：你好，4缸自然吸气发动机N46是吧，先挂空档再挂其他档有没有闯动呢，变速箱油液位是否...   \n",
       "3  技师说：右侧排气管上方，缸体上靠近变速箱|车主说：[图片]|车主说：是不是这个？|车主说：这...   \n",
       "4  技师说：家庭用车的话，还是可以入手的|技师说：维修保养费用不高|车主说：12年的180市场价...   \n",
       "\n",
       "                                      Report  \n",
       "0                                       随时联系  \n",
       "1                                       随时联系  \n",
       "2  行驶没有顿挫的感觉，原地换挡有闯动，刹车踩重没有，这是力的限制的作用，应该没有问题  \n",
       "3                            举起车辆，在左前轮这边的缸体上  \n",
       "4           家庭用车可以入手的，维修保养价格还可以。车况好，价格合理可以入手  "
      ]
     },
     "execution_count": 4,
     "metadata": {},
     "output_type": "execute_result"
    }
   ],
   "source": [
    "train_df.head()"
   ]
  },
  {
   "cell_type": "markdown",
   "metadata": {},
   "source": [
    "## 1.去除NA值"
   ]
  },
  {
   "cell_type": "code",
   "execution_count": 9,
   "metadata": {},
   "outputs": [
    {
     "name": "stdout",
     "output_type": "stream",
     "text": [
      "<class 'pandas.core.frame.DataFrame'>\n",
      "Int64Index: 82871 entries, 0 to 82942\n",
      "Data columns (total 6 columns):\n",
      "QID         82871 non-null object\n",
      "Brand       81572 non-null object\n",
      "Model       81572 non-null object\n",
      "Question    82871 non-null object\n",
      "Dialogue    82871 non-null object\n",
      "Report      82871 non-null object\n",
      "dtypes: object(6)\n",
      "memory usage: 4.4+ MB\n",
      "<class 'pandas.core.frame.DataFrame'>\n",
      "Int64Index: 20000 entries, 0 to 19999\n",
      "Data columns (total 5 columns):\n",
      "QID         20000 non-null object\n",
      "Brand       19987 non-null object\n",
      "Model       19987 non-null object\n",
      "Question    20000 non-null object\n",
      "Dialogue    20000 non-null object\n",
      "dtypes: object(5)\n",
      "memory usage: 937.5+ KB\n"
     ]
    }
   ],
   "source": [
    "train_df.dropna(subset=['Question','Dialogue','Report'], how='any', inplace=True)\n",
    "test_df.dropna(subset=['Question','Dialogue'], how='any', inplace=True)\n",
    "\n",
    "train_df.info()\n",
    "test_df.info()"
   ]
  },
  {
   "cell_type": "markdown",
   "metadata": {},
   "source": [
    "## 2. 过滤特殊字符 "
   ]
  },
  {
   "cell_type": "code",
   "execution_count": 11,
   "metadata": {},
   "outputs": [],
   "source": [
    "def clean_sentence(sentence):\n",
    "    '''\n",
    "    特殊字符去除\n",
    "    :param sentence:待处理字符串\n",
    "    :return:过滤之后字符串\n",
    "    '''\n",
    "    if isinstance(sentence, str):\n",
    "        return re.sub(\n",
    "            r'[\\s+\\-\\|\\!\\/\\[\\]\\{\\}_,.$%^*(+\\\"\\')]+|[:：+——()?【】“”！，。？、~@#￥%……&*（）]+|车主说|技师说|语音|图片|你好|您好',\n",
    "            '', sentence)\n",
    "    else:\n",
    "        return ''"
   ]
  },
  {
   "cell_type": "code",
   "execution_count": 14,
   "metadata": {},
   "outputs": [
    {
     "data": {
      "text/plain": [
       "'4缸自然吸气发动机N46是吧先挂空档再挂其他档有没有闯动呢变速箱油液位是否调整到正常液位呢从N到D进本没有NR有PR有最主要是行驶中到红绿灯路口等红灯停车DN有冲击感绿灯后ND冲击感很小第一要把变速箱油位调整到标准液位第二清除变速箱适应值第三升级变速箱程序还有遇到过液力变矩器问题的升级变速箱程序是刷模块吗还有个问题就是停车后档位在P挡松开刹车踏板时感觉车辆会动一下怎样清除变速箱适应值先从简单的排查吧有可能程序问题也有可能液力变矩器轴头磨损泄压了需要专用电脑清除变速箱适应值升级变速箱程序换变速箱油有焦糊味没变速箱油底壳带滤芯的换了没没有味滤芯换了变矩器磨损的话车况上架4轮离地换挡位就没有冲击感呢对所以先从简单的排查换了油也需要也需要重新学习没换油之前就这样是因为有冲击才换的油换油之前也是换挡冲击还是行驶也有冲击只是原地换挡位冲击换油前后行驶都没问题多少公里了估计还是程序问题阀体里的问题阀体和电脑一体的93万公里我昨天去试了一个4万多公里X1也是这样是不是通病如果是有一点那是正常的刹车踩重点也是吗用力踩刹车的话冲击感基本没有就是用力踩住刹车原地换挡位基本感觉不到冲击感如果是这样行驶没有冲击应该没有问题哦哦谢谢不客气'"
      ]
     },
     "execution_count": 14,
     "metadata": {},
     "output_type": "execute_result"
    }
   ],
   "source": [
    "clean_sentence(train_df.Dialogue[2])"
   ]
  },
  {
   "cell_type": "markdown",
   "metadata": {},
   "source": [
    "## 3. jieba分词\n",
    "+ 加载汽车词典\n",
    "+ 过滤停用词"
   ]
  },
  {
   "cell_type": "code",
   "execution_count": 19,
   "metadata": {},
   "outputs": [
    {
     "name": "stdout",
     "output_type": "stream",
     "text": [
      "['4', '缸', '自然', '吸气', '发动机', 'N46', '是', '吧', '先', '挂', '空档', '再', '挂', '其他', '档', '有没有', '闯动', '呢', '变速箱', '油液', '位', '是否', '调整', '到', '正常', '液位', '呢', '从', 'N', '到', 'D', '进本', '没有', 'NR', '有', 'PR', '有', '最', '主要', '是', '行驶', '中到', '红绿灯', '路口', '等', '红灯', '停车', 'DN', '有', '冲击', '感', '绿灯', '后', 'ND', '冲击', '感', '很小', '第一', '要', '把', '变速箱', '油位', '调整', '到', '标准', '液位', '第二', '清除', '变速箱', '适应', '值', '第三', '升级', '变速箱', '程序', '还有', '遇到', '过', '液力', '变矩器', '问题', '的', '升级', '变速箱', '程序', '是', '刷', '模块', '吗', '还有', '个', '问题', '就是', '停车', '后', '档位', '在', 'P', '挡', '松开', '刹车踏板', '时', '感觉', '车辆', '会', '动', '一下', '怎样', '清除', '变速箱', '适应', '值先', '从', '简单', '的', '排查', '吧', '有', '可能', '程序', '问题', '也', '有', '可能', '液力', '变矩器', '轴头', '磨损', '泄压', '了', '需要', '专用', '电脑', '清除', '变速箱', '适应', '值', '升级', '变速箱', '程序', '换', '变速箱', '油有', '焦糊', '味', '没', '变速箱', '油', '底壳', '带', '滤芯', '的', '换', '了', '没', '没有', '味', '滤芯', '换', '了', '变矩器', '磨损', '的话', '车况', '上架', '4', '轮离', '地', '换挡', '位', '就', '没有', '冲击', '感', '呢', '对', '所以', '先', '从', '简单', '的', '排查', '换', '了', '油', '也', '需要', '也', '需要', '重新学习', '没', '换油', '之前', '就', '这样', '是因为', '有', '冲击', '才', '换', '的', '油', '换油', '之前', '也', '是', '换挡', '冲击', '还是', '行驶', '也', '有', '冲击', '只是', '原地', '换挡', '位', '冲击', '换油', '前后', '行驶', '都', '没', '问题', '多少', '公里', '了', '估计', '还是', '程序', '问题', '阀体', '里', '的', '问题', '阀体', '和', '电脑', '一体', '的', '93', '万公里', '我', '昨天', '去试', '了', '一个', '4', '万多公里', 'X1', '也', '是', '这样', '是不是', '通病', '如果', '是', '有', '一点', '那', '是', '正常', '的', '刹车', '踩', '重点', '也', '是', '吗', '用力', '踩', '刹车', '的话', '冲击', '感', '基本', '没有', '就是', '用力', '踩住', '刹车', '原地', '换挡', '位', '基本', '感觉', '不到', '冲击', '感', '如果', '是', '这样', '行驶', '没有', '冲击', '应该', '没有', '问题', '哦', '哦', '谢谢', '不', '客气']\n"
     ]
    }
   ],
   "source": [
    "print(list(jieba.cut(clean_sentence(train_df.Dialogue[2]))))"
   ]
  },
  {
   "cell_type": "code",
   "execution_count": 20,
   "metadata": {},
   "outputs": [
    {
     "name": "stdout",
     "output_type": "stream",
     "text": [
      "['4', '缸', '自然', '吸气', '发动机', 'N46', '是', '吧', '先', '挂', '空档', '再', '挂', '其他', '档', '有没有', '闯动', '呢', '变速箱', '油液', '位', '是否', '调整', '到', '正常', '液位', '呢', '从', 'N', '到', 'D', '进本', '没有', 'NR', '有', 'PR', '有', '最', '主要', '是', '行驶', '中到', '红绿灯', '路口', '等', '红灯', '停车', 'DN', '有', '冲击', '感', '绿灯', '后', 'ND', '冲击', '感', '很小', '第一', '要', '把', '变速箱', '油位', '调整', '到', '标准', '液位', '第二', '清除', '变速箱', '适应', '值', '第三', '升级', '变速箱', '程序', '还有', '遇到', '过', '液力', '变矩器', '问题', '的', '升级', '变速箱', '程序', '是', '刷', '模块', '吗', '还有', '个', '问题', '就是', '停车', '后', '档位', '在', 'P', '挡', '松开', '刹车踏板', '时', '感觉', '车辆', '会', '动', '一下', '怎样', '清除', '变速箱', '适应', '值先', '从', '简单', '的', '排查', '吧', '有', '可能', '程序', '问题', '也', '有', '可能', '液力', '变矩器', '轴头', '磨损', '泄压', '了', '需要', '专用', '电脑', '清除', '变速箱', '适应', '值', '升级', '变速箱', '程序', '换', '变速箱', '油有', '焦糊', '味', '没', '变速箱油底壳', '带', '滤芯', '的', '换', '了', '没', '没有', '味', '滤芯', '换', '了', '变矩器', '磨损', '的话', '车况', '上架', '4', '轮离', '地', '换挡', '位', '就', '没有', '冲击', '感', '呢', '对', '所以', '先', '从', '简单', '的', '排查', '换', '了', '油', '也', '需要', '也', '需要', '重新学习', '没', '换油', '之前', '就', '这样', '是因为', '有', '冲击', '才', '换', '的', '油', '换油', '之前', '也', '是', '换挡', '冲击', '还是', '行驶', '也', '有', '冲击', '只是', '原地', '换挡', '位', '冲击', '换油', '前后', '行驶', '都', '没', '问题', '多少', '公里', '了', '估计', '还是', '程序', '问题', '阀体', '里', '的', '问题', '阀体', '和', '电脑', '一体', '的', '93', '万公里', '我', '昨天', '去试', '了', '一个', '4', '万多公里', 'X1', '也', '是', '这样', '是不是', '通病', '如果', '是', '有', '一点', '那', '是', '正常', '的', '刹车', '踩', '重点', '也', '是', '吗', '用力', '踩', '刹车', '的话', '冲击', '感', '基本', '没有', '就是', '用力', '踩住', '刹车', '原地', '换挡', '位', '基本', '感觉', '不到', '冲击', '感', '如果', '是', '这样', '行驶', '没有', '冲击', '应该', '没有', '问题', '哦', '哦', '谢谢', '不', '客气']\n"
     ]
    }
   ],
   "source": [
    "# 加载汽车词典\n",
    "jieba.load_userdict('data/car_dict.txt')\n",
    "print(list(jieba.cut(clean_sentence(train_df.Dialogue[2]))))"
   ]
  },
  {
   "cell_type": "code",
   "execution_count": 21,
   "metadata": {},
   "outputs": [],
   "source": [
    "# 加载停用词\n",
    "def load_stop_words(stop_word_path):\n",
    "    '''\n",
    "    加载停用词词典\n",
    "    :param stop_word_path:停用词路径\n",
    "    :return 停用词list\n",
    "    '''\n",
    "    with open(stop_word_path, encoding='utf8') as f:\n",
    "        stop_words = f.readlines()\n",
    "        stop_words = [x.strip() for x in stop_words]\n",
    "    return stop_words"
   ]
  },
  {
   "cell_type": "code",
   "execution_count": 22,
   "metadata": {},
   "outputs": [
    {
     "data": {
      "text/plain": [
       "767"
      ]
     },
     "execution_count": 22,
     "metadata": {},
     "output_type": "execute_result"
    }
   ],
   "source": [
    "stop_words = load_stop_words('stopwords/哈工大停用词表.txt')\n",
    "len(stop_words)"
   ]
  },
  {
   "cell_type": "code",
   "execution_count": 23,
   "metadata": {},
   "outputs": [],
   "source": [
    "def filter_stopwords(words):\n",
    "    '''\n",
    "    过滤停用词（已加载停用词到stopwords）\n",
    "    :param words: 待处理语句list\n",
    "    :return: 过滤后停用词\n",
    "    '''\n",
    "    return [x for x in words if x not in stop_words]"
   ]
  },
  {
   "cell_type": "code",
   "execution_count": 25,
   "metadata": {},
   "outputs": [
    {
     "name": "stdout",
     "output_type": "stream",
     "text": [
      "['4', '缸', '自然', '吸气', '发动机', 'N46', '先', '挂', '空档', '再', '挂', '档', '有没有', '闯动', '变速箱', '油液', '位', '是否', '调整', '正常', '液位', 'N', 'D', '进本', '没有', 'NR', 'PR', '最', '主要', '行驶', '中到', '红绿灯', '路口', '红灯', '停车', 'DN', '冲击', '感', '绿灯', '后', 'ND', '冲击', '感', '很小', '第一', '变速箱', '油位', '调整', '标准', '液位', '清除', '变速箱', '适应', '值', '第三', '升级', '变速箱', '程序', '遇到', '液力', '变矩器', '问题', '升级', '变速箱', '程序', '刷', '模块', '问题', '停车', '后', '档位', 'P', '挡', '松开', '刹车踏板', '时', '感觉', '车辆', '会', '动', '一下', '清除', '变速箱', '适应', '值先', '简单', '排查', '可能', '程序', '问题', '可能', '液力', '变矩器', '轴头', '磨损', '泄压', '需要', '专用', '电脑', '清除', '变速箱', '适应', '值', '升级', '变速箱', '程序', '换', '变速箱', '油有', '焦糊', '味', '没', '变速箱油底壳', '带', '滤芯', '换', '没', '没有', '味', '滤芯', '换', '变矩器', '磨损', '车况', '上架', '4', '轮离', '换挡', '位', '没有', '冲击', '感', '先', '简单', '排查', '换', '油', '需要', '需要', '重新学习', '没', '换油', '之前', '是因为', '冲击', '才', '换', '油', '换油', '之前', '换挡', '冲击', '行驶', '冲击', '原地', '换挡', '位', '冲击', '换油', '行驶', '都', '没', '问题', '公里', '估计', '程序', '问题', '阀体', '里', '问题', '阀体', '电脑', '一体', '93', '万公里', '昨天', '去试', '4', '万多公里', 'X1', '是不是', '通病', '一点', '正常', '刹车', '踩', '重点', '用力', '踩', '刹车', '冲击', '感', '基本', '没有', '用力', '踩住', '刹车', '原地', '换挡', '位', '基本', '感觉', '不到', '冲击', '感', '行驶', '没有', '冲击', '应该', '没有', '问题', '谢谢', '不', '客气']\n"
     ]
    }
   ],
   "source": [
    "print(filter_stopwords(list(jieba.cut(clean_sentence(train_df.Dialogue[2])))))"
   ]
  },
  {
   "cell_type": "markdown",
   "metadata": {},
   "source": [
    "## 4.拼接流程，批处理"
   ]
  },
  {
   "cell_type": "code",
   "execution_count": 31,
   "metadata": {},
   "outputs": [],
   "source": [
    "def process_sentence(sentence):\n",
    "    '''\n",
    "    预处理流程\n",
    "    :param sentence:待处理字符串\n",
    "    :return 处理后字符串\n",
    "    '''\n",
    "    # 清除无用词\n",
    "    sentence = clean_sentence(sentence)\n",
    "    # 分词\n",
    "    words = jieba.cut(sentence)\n",
    "    # 过滤停用词\n",
    "    words = filter_stopwords(words)\n",
    "    # 以空格连接词组\n",
    "    return ' '.join(words)"
   ]
  },
  {
   "cell_type": "code",
   "execution_count": 27,
   "metadata": {},
   "outputs": [
    {
     "data": {
      "text/plain": [
       "'4 缸 自然 吸气 发动机 N46 先 挂 空档 再 挂 档 有没有 闯动 变速箱 油液 位 是否 调整 正常 液位 N D 进本 没有 NR PR 最 主要 行驶 中到 红绿灯 路口 红灯 停车 DN 冲击 感 绿灯 后 ND 冲击 感 很小 第一 变速箱 油位 调整 标准 液位 清除 变速箱 适应 值 第三 升级 变速箱 程序 遇到 液力 变矩器 问题 升级 变速箱 程序 刷 模块 问题 停车 后 档位 P 挡 松开 刹车踏板 时 感觉 车辆 会 动 一下 清除 变速箱 适应 值先 简单 排查 可能 程序 问题 可能 液力 变矩器 轴头 磨损 泄压 需要 专用 电脑 清除 变速箱 适应 值 升级 变速箱 程序 换 变速箱 油有 焦糊 味 没 变速箱油底壳 带 滤芯 换 没 没有 味 滤芯 换 变矩器 磨损 车况 上架 4 轮离 换挡 位 没有 冲击 感 先 简单 排查 换 油 需要 需要 重新学习 没 换油 之前 是因为 冲击 才 换 油 换油 之前 换挡 冲击 行驶 冲击 原地 换挡 位 冲击 换油 行驶 都 没 问题 公里 估计 程序 问题 阀体 里 问题 阀体 电脑 一体 93 万公里 昨天 去试 4 万多公里 X1 是不是 通病 一点 正常 刹车 踩 重点 用力 踩 刹车 冲击 感 基本 没有 用力 踩住 刹车 原地 换挡 位 基本 感觉 不到 冲击 感 行驶 没有 冲击 应该 没有 问题 谢谢 不 客气'"
      ]
     },
     "execution_count": 27,
     "metadata": {},
     "output_type": "execute_result"
    }
   ],
   "source": [
    "process_sentence(train_df.Dialogue[2])"
   ]
  },
  {
   "cell_type": "code",
   "execution_count": 32,
   "metadata": {},
   "outputs": [],
   "source": [
    "# 批处理\n",
    "def process_dataframe(df):\n",
    "    '''\n",
    "    数据集批量处理方法\n",
    "    :param df: 数据集\n",
    "    :return:处理好的数据集\n",
    "    '''\n",
    "    # 批量预处理 训练集和测试集\n",
    "    for col_name in ['Brand', 'Model', 'Question', 'Dialogue']:\n",
    "        df[col_name] = df[col_name].apply(process_sentence)\n",
    "\n",
    "    if 'Report' in df.columns:\n",
    "        # 训练集 Report 预处理\n",
    "        df['Report'] = df['Report'].apply(process_sentence)\n",
    "    return df"
   ]
  },
  {
   "cell_type": "code",
   "execution_count": 33,
   "metadata": {},
   "outputs": [
    {
     "name": "stdout",
     "output_type": "stream",
     "text": [
      "CPU times: user 4min 16s, sys: 914 ms, total: 4min 17s\n",
      "Wall time: 4min 18s\n"
     ]
    },
    {
     "data": {
      "text/html": [
       "<div>\n",
       "<style scoped>\n",
       "    .dataframe tbody tr th:only-of-type {\n",
       "        vertical-align: middle;\n",
       "    }\n",
       "\n",
       "    .dataframe tbody tr th {\n",
       "        vertical-align: top;\n",
       "    }\n",
       "\n",
       "    .dataframe thead th {\n",
       "        text-align: right;\n",
       "    }\n",
       "</style>\n",
       "<table border=\"1\" class=\"dataframe\">\n",
       "  <thead>\n",
       "    <tr style=\"text-align: right;\">\n",
       "      <th></th>\n",
       "      <th>QID</th>\n",
       "      <th>Brand</th>\n",
       "      <th>Model</th>\n",
       "      <th>Question</th>\n",
       "      <th>Dialogue</th>\n",
       "    </tr>\n",
       "  </thead>\n",
       "  <tbody>\n",
       "    <tr>\n",
       "      <th>0</th>\n",
       "      <td>Q1</td>\n",
       "      <td>大众 进口</td>\n",
       "      <td>高尔夫 进口</td>\n",
       "      <td>帕萨特 烧 机油</td>\n",
       "      <td>请问 车 跑 公里 保修期 内 当地 4 店 里面 进行 检查 维修 已经 超出 保修期 建...</td>\n",
       "    </tr>\n",
       "    <tr>\n",
       "      <th>1</th>\n",
       "      <td>Q2</td>\n",
       "      <td>一汽大众 奥迪</td>\n",
       "      <td>奥迪 A6</td>\n",
       "      <td>修 一下 钱 换 修</td>\n",
       "      <td>师傅 抛光 处理 一下 好 50 元 左右 好 希望 能够 帮到 祝 生活 愉快</td>\n",
       "    </tr>\n",
       "    <tr>\n",
       "      <th>2</th>\n",
       "      <td>Q3</td>\n",
       "      <td>上汽 大众</td>\n",
       "      <td>帕萨特</td>\n",
       "      <td>帕萨特 领域 喇叭 坏 店里 说 方向盘 里线 坏 换 一根 两三百 不 感觉 太贵</td>\n",
       "      <td>气囊 油丝坏 价格 不 贵 更换</td>\n",
       "    </tr>\n",
       "    <tr>\n",
       "      <th>3</th>\n",
       "      <td>Q4</td>\n",
       "      <td>南京菲亚特</td>\n",
       "      <td>派力奥</td>\n",
       "      <td>发动机 漏气 会 征兆</td>\n",
       "      <td>发动机 没力 伴有 啪啪 漏气 声音 二 发动机 没力 伴有 排气管 黑烟 三 水温 高水箱...</td>\n",
       "    </tr>\n",
       "    <tr>\n",
       "      <th>4</th>\n",
       "      <td>Q5</td>\n",
       "      <td>东风本田</td>\n",
       "      <td>思铂睿</td>\n",
       "      <td>请问 那天 右后 胎扎 订补 胎后 跑 高速 80 有点 抖 110 时速 以上 抖动 明显...</td>\n",
       "      <td>师傅 可能 前轮 平衡 快 脱落 不 平衡 造成 建议 前轮 做 一下 动平衡 好 希望 能...</td>\n",
       "    </tr>\n",
       "    <tr>\n",
       "      <th>...</th>\n",
       "      <td>...</td>\n",
       "      <td>...</td>\n",
       "      <td>...</td>\n",
       "      <td>...</td>\n",
       "      <td>...</td>\n",
       "    </tr>\n",
       "    <tr>\n",
       "      <th>19995</th>\n",
       "      <td>Q19996</td>\n",
       "      <td>路虎</td>\n",
       "      <td>揽胜 极光</td>\n",
       "      <td>路虎 极光 20t 发动机 进气 链轮 损坏 更换 进气 链轮 后 发动 一会儿 自动 熄火...</td>\n",
       "      <td>主要 检查 正时 专用工具 专用工具 两大 疑问 旧 链轮 转动 时 发现 进气凸轮轴 明显...</td>\n",
       "    </tr>\n",
       "    <tr>\n",
       "      <th>19996</th>\n",
       "      <td>Q19997</td>\n",
       "      <td>别克</td>\n",
       "      <td>英朗</td>\n",
       "      <td>别克英朗 XT 别撞 后 发现 左 雾灯 下雨 后 起雾 更换 新 原厂 雾灯 需要 钱 买</td>\n",
       "      <td>原厂 件 厂家 合作 汽配 厂 生产 都 品牌 想要 完全 只能 服务站 订货 汽配城 发 ...</td>\n",
       "    </tr>\n",
       "    <tr>\n",
       "      <th>19997</th>\n",
       "      <td>Q19998</td>\n",
       "      <td>大众</td>\n",
       "      <td>朗逸</td>\n",
       "      <td>师傅 想 问 下车 一周 开 两次 周一 开 过来 周五 开回去 对车 影响</td>\n",
       "      <td>车 不要 经常 停放 超过 一周 需要 电瓶 负极 线 拆掉 避免 电瓶 漏电 亏损 没事 ...</td>\n",
       "    </tr>\n",
       "    <tr>\n",
       "      <th>19998</th>\n",
       "      <td>Q19999</td>\n",
       "      <td>金杯</td>\n",
       "      <td>雷龙</td>\n",
       "      <td>大师 车前 分泵 制动钳 导管 之间 晃动 颠簸 路段 当当响 应该 处理</td>\n",
       "      <td>最 简单 办法 中间 垫点 薄 铁皮 祝您 用车 愉快 导管 踩 刹车 时要 活动 里面 垫...</td>\n",
       "    </tr>\n",
       "    <tr>\n",
       "      <th>19999</th>\n",
       "      <td>Q20000</td>\n",
       "      <td>东风 小康</td>\n",
       "      <td>东风 风光</td>\n",
       "      <td>大师 好 东风 风光 330 开车 下坡 时 没有 踩 刹车 四档 不 小心 挂到 一档 响...</td>\n",
       "      <td>现在 开着 没有 异常 没事 这种 情况 尽量 避免 容易 打坏 齿轮 现在 开着 车子 没...</td>\n",
       "    </tr>\n",
       "  </tbody>\n",
       "</table>\n",
       "<p>20000 rows × 5 columns</p>\n",
       "</div>"
      ],
      "text/plain": [
       "          QID    Brand   Model  \\\n",
       "0          Q1    大众 进口  高尔夫 进口   \n",
       "1          Q2  一汽大众 奥迪   奥迪 A6   \n",
       "2          Q3    上汽 大众     帕萨特   \n",
       "3          Q4    南京菲亚特     派力奥   \n",
       "4          Q5     东风本田     思铂睿   \n",
       "...       ...      ...     ...   \n",
       "19995  Q19996       路虎   揽胜 极光   \n",
       "19996  Q19997       别克      英朗   \n",
       "19997  Q19998       大众      朗逸   \n",
       "19998  Q19999       金杯      雷龙   \n",
       "19999  Q20000    东风 小康   东风 风光   \n",
       "\n",
       "                                                Question  \\\n",
       "0                                               帕萨特 烧 机油   \n",
       "1                                             修 一下 钱 换 修   \n",
       "2             帕萨特 领域 喇叭 坏 店里 说 方向盘 里线 坏 换 一根 两三百 不 感觉 太贵   \n",
       "3                                            发动机 漏气 会 征兆   \n",
       "4      请问 那天 右后 胎扎 订补 胎后 跑 高速 80 有点 抖 110 时速 以上 抖动 明显...   \n",
       "...                                                  ...   \n",
       "19995  路虎 极光 20t 发动机 进气 链轮 损坏 更换 进气 链轮 后 发动 一会儿 自动 熄火...   \n",
       "19996     别克英朗 XT 别撞 后 发现 左 雾灯 下雨 后 起雾 更换 新 原厂 雾灯 需要 钱 买   \n",
       "19997             师傅 想 问 下车 一周 开 两次 周一 开 过来 周五 开回去 对车 影响   \n",
       "19998              大师 车前 分泵 制动钳 导管 之间 晃动 颠簸 路段 当当响 应该 处理   \n",
       "19999  大师 好 东风 风光 330 开车 下坡 时 没有 踩 刹车 四档 不 小心 挂到 一档 响...   \n",
       "\n",
       "                                                Dialogue  \n",
       "0      请问 车 跑 公里 保修期 内 当地 4 店 里面 进行 检查 维修 已经 超出 保修期 建...  \n",
       "1               师傅 抛光 处理 一下 好 50 元 左右 好 希望 能够 帮到 祝 生活 愉快  \n",
       "2                                       气囊 油丝坏 价格 不 贵 更换  \n",
       "3      发动机 没力 伴有 啪啪 漏气 声音 二 发动机 没力 伴有 排气管 黑烟 三 水温 高水箱...  \n",
       "4      师傅 可能 前轮 平衡 快 脱落 不 平衡 造成 建议 前轮 做 一下 动平衡 好 希望 能...  \n",
       "...                                                  ...  \n",
       "19995  主要 检查 正时 专用工具 专用工具 两大 疑问 旧 链轮 转动 时 发现 进气凸轮轴 明显...  \n",
       "19996  原厂 件 厂家 合作 汽配 厂 生产 都 品牌 想要 完全 只能 服务站 订货 汽配城 发 ...  \n",
       "19997  车 不要 经常 停放 超过 一周 需要 电瓶 负极 线 拆掉 避免 电瓶 漏电 亏损 没事 ...  \n",
       "19998  最 简单 办法 中间 垫点 薄 铁皮 祝您 用车 愉快 导管 踩 刹车 时要 活动 里面 垫...  \n",
       "19999  现在 开着 没有 异常 没事 这种 情况 尽量 避免 容易 打坏 齿轮 现在 开着 车子 没...  \n",
       "\n",
       "[20000 rows x 5 columns]"
      ]
     },
     "execution_count": 33,
     "metadata": {},
     "output_type": "execute_result"
    }
   ],
   "source": [
    "%%time\n",
    "process_dataframe(train_df)\n",
    "process_dataframe(test_df)"
   ]
  },
  {
   "cell_type": "markdown",
   "metadata": {},
   "source": [
    "## 5.多核运行"
   ]
  },
  {
   "cell_type": "code",
   "execution_count": 36,
   "metadata": {},
   "outputs": [
    {
     "data": {
      "text/plain": [
       "\u001b[0;31mSignature:\u001b[0m \u001b[0mnp\u001b[0m\u001b[0;34m.\u001b[0m\u001b[0marray_split\u001b[0m\u001b[0;34m(\u001b[0m\u001b[0mary\u001b[0m\u001b[0;34m,\u001b[0m \u001b[0mindices_or_sections\u001b[0m\u001b[0;34m,\u001b[0m \u001b[0maxis\u001b[0m\u001b[0;34m=\u001b[0m\u001b[0;36m0\u001b[0m\u001b[0;34m)\u001b[0m\u001b[0;34m\u001b[0m\u001b[0;34m\u001b[0m\u001b[0m\n",
       "\u001b[0;31mDocstring:\u001b[0m\n",
       "Split an array into multiple sub-arrays.\n",
       "\n",
       "Please refer to the ``split`` documentation.  The only difference\n",
       "between these functions is that ``array_split`` allows\n",
       "`indices_or_sections` to be an integer that does *not* equally\n",
       "divide the axis. For an array of length l that should be split\n",
       "into n sections, it returns l % n sub-arrays of size l//n + 1\n",
       "and the rest of size l//n.\n",
       "\n",
       "See Also\n",
       "--------\n",
       "split : Split array into multiple sub-arrays of equal size.\n",
       "\n",
       "Examples\n",
       "--------\n",
       ">>> x = np.arange(8.0)\n",
       ">>> np.array_split(x, 3)\n",
       "    [array([0.,  1.,  2.]), array([3.,  4.,  5.]), array([6.,  7.])]\n",
       "\n",
       ">>> x = np.arange(7.0)\n",
       ">>> np.array_split(x, 3)\n",
       "    [array([0.,  1.,  2.]), array([3.,  4.]), array([5.,  6.])]\n",
       "\u001b[0;31mFile:\u001b[0m      ~/opt/miniconda3/envs/kaikeba/lib/python3.6/site-packages/numpy/lib/shape_base.py\n",
       "\u001b[0;31mType:\u001b[0m      function\n"
      ]
     },
     "metadata": {},
     "output_type": "display_data"
    }
   ],
   "source": [
    "?np.array_split"
   ]
  },
  {
   "cell_type": "code",
   "execution_count": 37,
   "metadata": {},
   "outputs": [],
   "source": [
    "def parallelize(df, func):\n",
    "    '''\n",
    "    多核运行func程序处理df\n",
    "    :param df: 待处理dataframe\n",
    "    :param func: 批处理流程\n",
    "    :return: 处理后df\n",
    "    '''\n",
    "    # cpu数量\n",
    "    cores = cpu_count()\n",
    "    # 分块数量\n",
    "    partitions = cores\n",
    "    # split data\n",
    "    data_split = np.array_split(df, partitions)\n",
    "    # open process pool\n",
    "    pool = Pool()\n",
    "    data = pd.concat(pool.map(func, data_split))\n",
    "    # close process pool\n",
    "    pool.close()\n",
    "    # 执行完close后不会有新的进程加入到pool,join函数等待所有子进程结束\n",
    "    pool.join()\n",
    "    return data"
   ]
  },
  {
   "cell_type": "code",
   "execution_count": 38,
   "metadata": {},
   "outputs": [
    {
     "name": "stdout",
     "output_type": "stream",
     "text": [
      "CPU times: user 1.03 s, sys: 543 ms, total: 1.57 s\n",
      "Wall time: 1min 5s\n"
     ]
    }
   ],
   "source": [
    "%%time\n",
    "train_df = parallelize(train_df, process_dataframe)\n",
    "test_df = parallelize(test_df, process_dataframe)"
   ]
  },
  {
   "cell_type": "code",
   "execution_count": 39,
   "metadata": {},
   "outputs": [
    {
     "data": {
      "text/plain": [
       "8"
      ]
     },
     "execution_count": 39,
     "metadata": {},
     "output_type": "execute_result"
    }
   ],
   "source": [
    "cores"
   ]
  },
  {
   "cell_type": "code",
   "execution_count": 40,
   "metadata": {},
   "outputs": [
    {
     "data": {
      "text/html": [
       "<div>\n",
       "<style scoped>\n",
       "    .dataframe tbody tr th:only-of-type {\n",
       "        vertical-align: middle;\n",
       "    }\n",
       "\n",
       "    .dataframe tbody tr th {\n",
       "        vertical-align: top;\n",
       "    }\n",
       "\n",
       "    .dataframe thead th {\n",
       "        text-align: right;\n",
       "    }\n",
       "</style>\n",
       "<table border=\"1\" class=\"dataframe\">\n",
       "  <thead>\n",
       "    <tr style=\"text-align: right;\">\n",
       "      <th></th>\n",
       "      <th>QID</th>\n",
       "      <th>Brand</th>\n",
       "      <th>Model</th>\n",
       "      <th>Question</th>\n",
       "      <th>Dialogue</th>\n",
       "      <th>Report</th>\n",
       "    </tr>\n",
       "  </thead>\n",
       "  <tbody>\n",
       "    <tr>\n",
       "      <th>0</th>\n",
       "      <td>Q1</td>\n",
       "      <td>奔驰</td>\n",
       "      <td>奔驰 GL 级</td>\n",
       "      <td>方向机 重 助力泵 方向机 都 换</td>\n",
       "      <td>新 都 换 助力泵 方向机 换 方向机 带 助力 重 这车 匹配 不 需要 更换 部件 问题...</td>\n",
       "      <td>随时 联系</td>\n",
       "    </tr>\n",
       "    <tr>\n",
       "      <th>1</th>\n",
       "      <td>Q2</td>\n",
       "      <td>奔驰</td>\n",
       "      <td>奔驰 M 级</td>\n",
       "      <td>奔驰 ML500 排气凸轮轴 调节 错误</td>\n",
       "      <td>有没有 电脑 检测 故障 代码 有发 一下 发动机 之前 亮 故障 灯 显示 失火 有点 缺...</td>\n",
       "      <td>随时 联系</td>\n",
       "    </tr>\n",
       "    <tr>\n",
       "      <th>2</th>\n",
       "      <td>Q3</td>\n",
       "      <td>宝马</td>\n",
       "      <td>宝马 X1 进口</td>\n",
       "      <td>2010 款 宝马 X12011 年 出厂 20 排量 通用 6L45 变速箱 原地 换挡 ...</td>\n",
       "      <td>4 缸 自然 吸气 发动机 N46 先挂 空档 再 挂 档 有没有 闯动 变速箱 油液 位 ...</td>\n",
       "      <td>行驶 没有 顿挫 感觉 原地 换挡 闯动 刹车 踩 重 没有 力 限制 作用 应该 没有 问题</td>\n",
       "    </tr>\n",
       "    <tr>\n",
       "      <th>3</th>\n",
       "      <td>Q4</td>\n",
       "      <td>Jeep</td>\n",
       "      <td>牧马人</td>\n",
       "      <td>30V6 发动机号 位置 照片 最好</td>\n",
       "      <td>右侧 排气管 上方 缸体 上 靠近 变速箱 是不是 号 不 先拓 下来 行车证 下 不是 有...</td>\n",
       "      <td>举起 车辆 左 前轮 缸体 上</td>\n",
       "    </tr>\n",
       "    <tr>\n",
       "      <th>4</th>\n",
       "      <td>Q5</td>\n",
       "      <td>奔驰</td>\n",
       "      <td>奔驰 C 级</td>\n",
       "      <td>2012 款 奔驰 c180 维修保养 动力 值得 拥有</td>\n",
       "      <td>家庭 用车 入手 维修保养 费用 不高 12 年 180 市场 价钱 现在 想 媳妇 买 属...</td>\n",
       "      <td>家庭 用车 入手 维修保养 价格 还 车况 好 价格合理 入手</td>\n",
       "    </tr>\n",
       "  </tbody>\n",
       "</table>\n",
       "</div>"
      ],
      "text/plain": [
       "  QID Brand     Model                                           Question  \\\n",
       "0  Q1    奔驰   奔驰 GL 级                                  方向机 重 助力泵 方向机 都 换   \n",
       "1  Q2    奔驰    奔驰 M 级                               奔驰 ML500 排气凸轮轴 调节 错误   \n",
       "2  Q3    宝马  宝马 X1 进口  2010 款 宝马 X12011 年 出厂 20 排量 通用 6L45 变速箱 原地 换挡 ...   \n",
       "3  Q4  Jeep       牧马人                                 30V6 发动机号 位置 照片 最好   \n",
       "4  Q5    奔驰    奔驰 C 级                       2012 款 奔驰 c180 维修保养 动力 值得 拥有   \n",
       "\n",
       "                                            Dialogue  \\\n",
       "0  新 都 换 助力泵 方向机 换 方向机 带 助力 重 这车 匹配 不 需要 更换 部件 问题...   \n",
       "1  有没有 电脑 检测 故障 代码 有发 一下 发动机 之前 亮 故障 灯 显示 失火 有点 缺...   \n",
       "2  4 缸 自然 吸气 发动机 N46 先挂 空档 再 挂 档 有没有 闯动 变速箱 油液 位 ...   \n",
       "3  右侧 排气管 上方 缸体 上 靠近 变速箱 是不是 号 不 先拓 下来 行车证 下 不是 有...   \n",
       "4  家庭 用车 入手 维修保养 费用 不高 12 年 180 市场 价钱 现在 想 媳妇 买 属...   \n",
       "\n",
       "                                            Report  \n",
       "0                                            随时 联系  \n",
       "1                                            随时 联系  \n",
       "2  行驶 没有 顿挫 感觉 原地 换挡 闯动 刹车 踩 重 没有 力 限制 作用 应该 没有 问题  \n",
       "3                                  举起 车辆 左 前轮 缸体 上  \n",
       "4                  家庭 用车 入手 维修保养 价格 还 车况 好 价格合理 入手  "
      ]
     },
     "execution_count": 40,
     "metadata": {},
     "output_type": "execute_result"
    }
   ],
   "source": [
    "train_df.head()"
   ]
  },
  {
   "cell_type": "markdown",
   "metadata": {},
   "source": [
    "## 6.保存数据\n",
    "+ QA问题，提取Question、Dialogue、Report作为vocab"
   ]
  },
  {
   "cell_type": "code",
   "execution_count": 41,
   "metadata": {},
   "outputs": [],
   "source": [
    "train_df['merge'] = train_df[['Question','Dialogue','Report']].apply(lambda x : ' '.join(x), axis=1)\n",
    "test_df['merge'] = test_df[['Question','Dialogue']].apply(lambda x : ' '.join(x), axis=1)"
   ]
  },
  {
   "cell_type": "code",
   "execution_count": 44,
   "metadata": {},
   "outputs": [
    {
     "name": "stdout",
     "output_type": "stream",
     "text": [
      "train data size 82871,test data size 20000,merged_df data size 102871\n"
     ]
    }
   ],
   "source": [
    "merged_df = pd.concat([train_df['merge'], test_df['merge']], axis=0)\n",
    "print('train data size {},test data size {},merged_df data size {}'.format(len(train_df),len(test_df),len(merged_df)))"
   ]
  },
  {
   "cell_type": "code",
   "execution_count": 45,
   "metadata": {},
   "outputs": [],
   "source": [
    "merged_df.to_csv('data/merged_train_test_seg_data.csv', index=None, header=False)"
   ]
  },
  {
   "cell_type": "markdown",
   "metadata": {},
   "source": [
    "## 7.构建vocab"
   ]
  },
  {
   "cell_type": "code",
   "execution_count": 49,
   "metadata": {},
   "outputs": [
    {
     "data": {
      "text/plain": [
       "160656"
      ]
     },
     "execution_count": 49,
     "metadata": {},
     "output_type": "execute_result"
    }
   ],
   "source": [
    "vocab = set(' '.join(merged_df).split(' '))\n",
    "len(vocab)"
   ]
  },
  {
   "cell_type": "code",
   "execution_count": 56,
   "metadata": {},
   "outputs": [],
   "source": [
    "import os\n",
    "import pickle\n",
    "def save_file(data, filepath):\n",
    "    dirs = filepath.split(os.sep)[:-1]\n",
    "    DIR = '.'\n",
    "    while len(dirs):\n",
    "        DIR += os.sep + dirs.pop(0)\n",
    "        if not os.path.isdir(DIR):\n",
    "            os.mkdir(DIR)\n",
    "    if not filepath.endswith('.pkl'):\n",
    "        filepath += '.pkl'\n",
    "    with open(filepath, 'wb') as f:\n",
    "        pickle.dump(data, f)"
   ]
  },
  {
   "cell_type": "code",
   "execution_count": 57,
   "metadata": {},
   "outputs": [],
   "source": [
    "save_file(vocab, 'data/vocab')"
   ]
  },
  {
   "cell_type": "code",
   "execution_count": null,
   "metadata": {},
   "outputs": [],
   "source": [
    "def pa"
   ]
  }
 ],
 "metadata": {
  "kernelspec": {
   "display_name": "kaikeba_lecture01",
   "language": "python",
   "name": "kaikeba_lecture01"
  },
  "language_info": {
   "codemirror_mode": {
    "name": "ipython",
    "version": 3
   },
   "file_extension": ".py",
   "mimetype": "text/x-python",
   "name": "python",
   "nbconvert_exporter": "python",
   "pygments_lexer": "ipython3",
   "version": "3.6.9"
  }
 },
 "nbformat": 4,
 "nbformat_minor": 4
}
