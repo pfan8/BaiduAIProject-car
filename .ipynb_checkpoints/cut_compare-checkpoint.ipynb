{
 "cells": [
  {
   "cell_type": "code",
   "execution_count": 1,
   "metadata": {},
   "outputs": [],
   "source": [
    "import numpy as np\n",
    "import pandas as pd\n",
    "import jieba\n",
    "import os\n",
    "import sys\n",
    "import pickle"
   ]
  },
  {
   "cell_type": "code",
   "execution_count": 2,
   "metadata": {},
   "outputs": [],
   "source": [
    "def save_file(data, filepath):\n",
    "    dirs = filepath.split(os.sep)[:-1]\n",
    "    DIR = '.'\n",
    "    while len(dirs):\n",
    "        DIR += os.sep + dirs.pop(0)\n",
    "        if not os.path.isdir(DIR):\n",
    "            os.mkdir(DIR)\n",
    "    if not filepath.endswith('.pkl'):\n",
    "        filepath += '.pkl'\n",
    "    with open(filepath, 'wb') as f:\n",
    "        pickle.dump(data, f)"
   ]
  },
  {
   "cell_type": "markdown",
   "metadata": {},
   "source": [
    "# 一.加载数据"
   ]
  },
  {
   "cell_type": "code",
   "execution_count": 5,
   "metadata": {},
   "outputs": [
    {
     "name": "stdout",
     "output_type": "stream",
     "text": [
      "<class 'pandas.core.frame.DataFrame'>\n",
      "RangeIndex: 82943 entries, 0 to 82942\n",
      "Data columns (total 6 columns):\n",
      "QID         82943 non-null object\n",
      "Brand       81642 non-null object\n",
      "Model       81642 non-null object\n",
      "Question    82943 non-null object\n",
      "Dialogue    82941 non-null object\n",
      "Report      82873 non-null object\n",
      "dtypes: object(6)\n",
      "memory usage: 3.8+ MB\n",
      "<class 'pandas.core.frame.DataFrame'>\n",
      "RangeIndex: 20000 entries, 0 to 19999\n",
      "Data columns (total 5 columns):\n",
      "QID         20000 non-null object\n",
      "Brand       19987 non-null object\n",
      "Model       19987 non-null object\n",
      "Question    20000 non-null object\n",
      "Dialogue    20000 non-null object\n",
      "dtypes: object(5)\n",
      "memory usage: 781.4+ KB\n"
     ]
    }
   ],
   "source": [
    "train_df = pd.read_csv('data/AutoMaster_TrainSet.csv', sep=',')\n",
    "test_df = pd.read_csv('data/AutoMaster_TestSet.csv', sep=',')\n",
    "\n",
    "train_df.info()\n",
    "test_df.info()"
   ]
  },
  {
   "cell_type": "code",
   "execution_count": 4,
   "metadata": {},
   "outputs": [
    {
     "data": {
      "text/html": [
       "<div>\n",
       "<style scoped>\n",
       "    .dataframe tbody tr th:only-of-type {\n",
       "        vertical-align: middle;\n",
       "    }\n",
       "\n",
       "    .dataframe tbody tr th {\n",
       "        vertical-align: top;\n",
       "    }\n",
       "\n",
       "    .dataframe thead th {\n",
       "        text-align: right;\n",
       "    }\n",
       "</style>\n",
       "<table border=\"1\" class=\"dataframe\">\n",
       "  <thead>\n",
       "    <tr style=\"text-align: right;\">\n",
       "      <th></th>\n",
       "      <th>QID</th>\n",
       "      <th>Brand</th>\n",
       "      <th>Model</th>\n",
       "      <th>Question</th>\n",
       "      <th>Dialogue</th>\n",
       "      <th>Report</th>\n",
       "    </tr>\n",
       "  </thead>\n",
       "  <tbody>\n",
       "    <tr>\n",
       "      <th>0</th>\n",
       "      <td>Q1</td>\n",
       "      <td>奔驰</td>\n",
       "      <td>奔驰GL级</td>\n",
       "      <td>方向机重，助力泵，方向机都换了还是一样</td>\n",
       "      <td>技师说：[语音]|车主说：新的都换了|车主说：助力泵，方向机|技师说：[语音]|车主说：换了...</td>\n",
       "      <td>随时联系</td>\n",
       "    </tr>\n",
       "    <tr>\n",
       "      <th>1</th>\n",
       "      <td>Q2</td>\n",
       "      <td>奔驰</td>\n",
       "      <td>奔驰M级</td>\n",
       "      <td>奔驰ML500排气凸轮轴调节错误</td>\n",
       "      <td>技师说：你这个有没有电脑检测故障代码。|车主说：有|技师说：发一下|车主说：发动机之前亮故障...</td>\n",
       "      <td>随时联系</td>\n",
       "    </tr>\n",
       "    <tr>\n",
       "      <th>2</th>\n",
       "      <td>Q3</td>\n",
       "      <td>宝马</td>\n",
       "      <td>宝马X1(进口)</td>\n",
       "      <td>2010款宝马X1，2011年出厂，2.0排量，通用6L45变速箱，原地换挡位PRND车辆闯...</td>\n",
       "      <td>技师说：你好，4缸自然吸气发动机N46是吧，先挂空档再挂其他档有没有闯动呢，变速箱油液位是否...</td>\n",
       "      <td>行驶没有顿挫的感觉，原地换挡有闯动，刹车踩重没有，这是力的限制的作用，应该没有问题</td>\n",
       "    </tr>\n",
       "    <tr>\n",
       "      <th>3</th>\n",
       "      <td>Q4</td>\n",
       "      <td>Jeep</td>\n",
       "      <td>牧马人</td>\n",
       "      <td>3.0V6发动机号在什么位置，有照片最好！</td>\n",
       "      <td>技师说：右侧排气管上方，缸体上靠近变速箱|车主说：[图片]|车主说：是不是这个？|车主说：这...</td>\n",
       "      <td>举起车辆，在左前轮这边的缸体上</td>\n",
       "    </tr>\n",
       "    <tr>\n",
       "      <th>4</th>\n",
       "      <td>Q5</td>\n",
       "      <td>奔驰</td>\n",
       "      <td>奔驰C级</td>\n",
       "      <td>2012款奔驰c180怎么样，维修保养，动力，值得拥有吗</td>\n",
       "      <td>技师说：家庭用车的话，还是可以入手的|技师说：维修保养费用不高|车主说：12年的180市场价...</td>\n",
       "      <td>家庭用车可以入手的，维修保养价格还可以。车况好，价格合理可以入手</td>\n",
       "    </tr>\n",
       "  </tbody>\n",
       "</table>\n",
       "</div>"
      ],
      "text/plain": [
       "  QID Brand     Model                                           Question  \\\n",
       "0  Q1    奔驰     奔驰GL级                                方向机重，助力泵，方向机都换了还是一样   \n",
       "1  Q2    奔驰      奔驰M级                                   奔驰ML500排气凸轮轴调节错误   \n",
       "2  Q3    宝马  宝马X1(进口)  2010款宝马X1，2011年出厂，2.0排量，通用6L45变速箱，原地换挡位PRND车辆闯...   \n",
       "3  Q4  Jeep       牧马人                              3.0V6发动机号在什么位置，有照片最好！   \n",
       "4  Q5    奔驰      奔驰C级                       2012款奔驰c180怎么样，维修保养，动力，值得拥有吗   \n",
       "\n",
       "                                            Dialogue  \\\n",
       "0  技师说：[语音]|车主说：新的都换了|车主说：助力泵，方向机|技师说：[语音]|车主说：换了...   \n",
       "1  技师说：你这个有没有电脑检测故障代码。|车主说：有|技师说：发一下|车主说：发动机之前亮故障...   \n",
       "2  技师说：你好，4缸自然吸气发动机N46是吧，先挂空档再挂其他档有没有闯动呢，变速箱油液位是否...   \n",
       "3  技师说：右侧排气管上方，缸体上靠近变速箱|车主说：[图片]|车主说：是不是这个？|车主说：这...   \n",
       "4  技师说：家庭用车的话，还是可以入手的|技师说：维修保养费用不高|车主说：12年的180市场价...   \n",
       "\n",
       "                                      Report  \n",
       "0                                       随时联系  \n",
       "1                                       随时联系  \n",
       "2  行驶没有顿挫的感觉，原地换挡有闯动，刹车踩重没有，这是力的限制的作用，应该没有问题  \n",
       "3                            举起车辆，在左前轮这边的缸体上  \n",
       "4           家庭用车可以入手的，维修保养价格还可以。车况好，价格合理可以入手  "
      ]
     },
     "execution_count": 4,
     "metadata": {},
     "output_type": "execute_result"
    }
   ],
   "source": [
    "dataset.head()"
   ]
  },
  {
   "cell_type": "code",
   "execution_count": 20,
   "metadata": {},
   "outputs": [],
   "source": [
    "corpus = []\n",
    "corpus.extend(trainSet.Brand.dropna().tolist())\n",
    "save_file(corpus, 'output/brand_corpus')\n",
    "lb = len(corpus)\n",
    "corpus.extend(trainSet.Model.dropna().tolist())\n",
    "save_file(corpus[lb:], 'output/model_corpus')\n",
    "lm = len(corpus)\n",
    "corpus.extend(trainSet.Question.str.replace(r'\\[语音\\]|\\[图片\\]','').dropna().tolist())\n",
    "save_file(corpus[lm:], 'output/question_corpus')\n",
    "lq = len(corpus)\n",
    "corpus.extend(dataset.Dialogue.str.replace(r'\\[语音\\]|\\[图片\\]','').dropna().tolist())\n",
    "save_file(corpus[lq:], 'output/dialogue_corpus')\n",
    "ld = len(corpus)\n",
    "corpus.extend(trainSet.Report.str.replace(r'\\[语音\\]|\\[图片\\]','').dropna().tolist())\n",
    "save_file(corpus[lb:], 'output/dialogue_corpus')"
   ]
  },
  {
   "cell_type": "code",
   "execution_count": 21,
   "metadata": {},
   "outputs": [
    {
     "data": {
      "text/plain": [
       "(81642, 163284, 246227, 329168)"
      ]
     },
     "execution_count": 21,
     "metadata": {},
     "output_type": "execute_result"
    }
   ],
   "source": [
    "lb,lm,lq,ld"
   ]
  },
  {
   "cell_type": "markdown",
   "metadata": {},
   "source": [
    "# 二.对比Tokenizer\n",
    "+ jieba\n",
    "+ thulac\n",
    "+ ltp\n",
    "+ hanlp"
   ]
  },
  {
   "cell_type": "markdown",
   "metadata": {},
   "source": [
    "## 2.1. jieba"
   ]
  },
  {
   "cell_type": "code",
   "execution_count": 5,
   "metadata": {},
   "outputs": [
    {
     "name": "stderr",
     "output_type": "stream",
     "text": [
      "Building prefix dict from the default dictionary ...\n",
      "Loading model from cache /var/folders/w3/yc8mtbd91vs80rp79zfgk8x00000gn/T/jieba.cache\n",
      "Loading model cost 0.668 seconds.\n",
      "Prefix dict has been built succesfully.\n"
     ]
    },
    {
     "data": {
      "text/plain": [
       "'技师 说 ： 你好 ！ 废 气阀 漏 的 是 机油     只能 进行 更换 维修 | 车主 说 ： 更换 什么 | 技师 说 ： 更换 废 气阀 | 车主 说 ： 这个 位置 是 废气 吧'"
      ]
     },
     "execution_count": 5,
     "metadata": {},
     "output_type": "execute_result"
    }
   ],
   "source": [
    "cut = lambda word : ' '.join(jieba.cut(word))\n",
    "cut(corpus[250000])"
   ]
  },
  {
   "cell_type": "code",
   "execution_count": 6,
   "metadata": {},
   "outputs": [],
   "source": [
    "from tqdm.notebook import tqdm\n",
    "def get_tokens(cut_func, corpus, batch_num=10000):\n",
    "    '''\n",
    "    根据tokenizer(cut_func)，对corpus进行分词\n",
    "    分batch操作，从而进度可视化\n",
    "    '''\n",
    "    result = []\n",
    "    for i in tqdm(range(0, len(corpus), batch_num)):\n",
    "        result.extend([cut_func(x) for x in corpus[i:i+batch_num]])\n",
    "    return result"
   ]
  },
  {
   "cell_type": "code",
   "execution_count": 40,
   "metadata": {},
   "outputs": [
    {
     "data": {
      "application/vnd.jupyter.widget-view+json": {
       "model_id": "b6adec6e9364473a9117e4a0762d3ede",
       "version_major": 2,
       "version_minor": 0
      },
      "text/plain": [
       "HBox(children=(IntProgress(value=0, max=42), HTML(value='')))"
      ]
     },
     "metadata": {},
     "output_type": "display_data"
    },
    {
     "name": "stdout",
     "output_type": "stream",
     "text": [
      "\n",
      "CPU times: user 1min 54s, sys: 179 ms, total: 1min 54s\n",
      "Wall time: 1min 54s\n"
     ]
    }
   ],
   "source": [
    "%%time\n",
    "result = get_tokens(cut, corpus)"
   ]
  },
  {
   "cell_type": "code",
   "execution_count": 41,
   "metadata": {},
   "outputs": [
    {
     "data": {
      "text/plain": [
       "'技师 说 ： 你 这个 有没有 电脑 检测 故障 代码 。 | 车主 说 ： 有 | 技师 说 ： 发 一下 | 车主 说 ： 发动机 之前 亮 故障 灯 、 显示 是 失火 、 有点 缺缸 、 现在 又 没有 故障 、 发动机 多少 有点 抖动 、 检查 先前 的 故障 是 报 这个 故障 | 车主 说 ： 稍 等 | 车主 说 ： 显示 图片 太大传 不了 | 技师 说 ： [ 语音 ] | 车主 说 ： 这个 对 发动机 的 抖动 、 失火 、 缺缸 有 直接 联系 吗 ？ | 技师 说 ： [ 语音 ] | 车主 说 ： 还有 就是 报 （ 左右 排气 凸轮轴 作动 电磁铁 ） 对 正极 短路 、 对 地 短路 、 对 导线 断路 | 技师 说 ： [ 语音 ] | 车主 说 ： 这 几个 电磁阀 和 问 您 的 第一个 故障 有 直接 关系 吧 | 技师 说 ： [ 语音 ] | 车主 说 ： 这个 有 办法 检测 它 好坏 吗 ？ | 技师 说 ： [ 语音 ] | 车主 说 ： 谢谢 | 技师 说 ： 不 客气'"
      ]
     },
     "execution_count": 41,
     "metadata": {},
     "output_type": "execute_result"
    }
   ],
   "source": [
    "result[lq+1]"
   ]
  },
  {
   "cell_type": "markdown",
   "metadata": {},
   "source": [
    "结果：默认分词优于搜索引擎的分词"
   ]
  },
  {
   "cell_type": "markdown",
   "metadata": {},
   "source": [
    "**载入汽车字典(github上下载THU汽车字典)**"
   ]
  },
  {
   "cell_type": "code",
   "execution_count": 7,
   "metadata": {},
   "outputs": [],
   "source": [
    "jieba.load_userdict('car_dict.txt')"
   ]
  },
  {
   "cell_type": "code",
   "execution_count": 42,
   "metadata": {},
   "outputs": [
    {
     "data": {
      "application/vnd.jupyter.widget-view+json": {
       "model_id": "41d23ebe2c14493d8d1b4a1d3648b3ef",
       "version_major": 2,
       "version_minor": 0
      },
      "text/plain": [
       "HBox(children=(IntProgress(value=0, max=42), HTML(value='')))"
      ]
     },
     "metadata": {},
     "output_type": "display_data"
    },
    {
     "name": "stdout",
     "output_type": "stream",
     "text": [
      "\n"
     ]
    },
    {
     "data": {
      "text/plain": [
       "'技师 说 ： 你 这个 有没有 电脑 检测 故障 代码 。 | 车主 说 ： 有 | 技师 说 ： 发 一下 | 车主 说 ： 发动机 之前 亮 故障 灯 、 显示 是 失火 、 有点 缺缸 、 现在 又 没有 故障 、 发动机 多少 有点 抖动 、 检查 先前 的 故障 是 报 这个 故障 | 车主 说 ： 稍 等 | 车主 说 ： 显示 图片 太大传 不了 | 技师 说 ： [ 语音 ] | 车主 说 ： 这个 对 发动机 的 抖动 、 失火 、 缺缸 有 直接 联系 吗 ？ | 技师 说 ： [ 语音 ] | 车主 说 ： 还有 就是 报 （ 左右 排气凸轮轴 作动 电磁铁 ） 对 正极 短路 、 对 地 短路 、 对 导线 断路 | 技师 说 ： [ 语音 ] | 车主 说 ： 这 几个 电磁阀 和 问 您 的 第一个 故障 有 直接 关系 吧 | 技师 说 ： [ 语音 ] | 车主 说 ： 这个 有 办法 检测 它 好坏 吗 ？ | 技师 说 ： [ 语音 ] | 车主 说 ： 谢谢 | 技师 说 ： 不 客气'"
      ]
     },
     "execution_count": 42,
     "metadata": {},
     "output_type": "execute_result"
    }
   ],
   "source": [
    "# 重新用默认的jieba分词\n",
    "result_dict = get_tokens(cut, corpus)\n",
    "result_dict[lq+1]"
   ]
  },
  {
   "cell_type": "code",
   "execution_count": 43,
   "metadata": {},
   "outputs": [
    {
     "data": {
      "text/plain": [
       "'技师 说 ： 你 这个 有没有 电脑 检测 故障 代码 。 | 车主 说 ： 有 | 技师 说 ： 发 一下 | 车主 说 ： 发动机 之前 亮 故障 灯 、 显示 是 失火 、 有点 缺缸 、 现在 又 没有 故障 、 发动机 多少 有点 抖动 、 检查 先前 的 故障 是 报 这个 故障 | 车主 说 ： 稍 等 | 车主 说 ： 显示 图片 太大传 不了 | 技师 说 ： [ 语音 ] | 车主 说 ： 这个 对 发动机 的 抖动 、 失火 、 缺缸 有 直接 联系 吗 ？ | 技师 说 ： [ 语音 ] | 车主 说 ： 还有 就是 报 （ 左右 排气 凸轮轴 作动 电磁铁 ） 对 正极 短路 、 对 地 短路 、 对 导线 断路 | 技师 说 ： [ 语音 ] | 车主 说 ： 这 几个 电磁阀 和 问 您 的 第一个 故障 有 直接 关系 吧 | 技师 说 ： [ 语音 ] | 车主 说 ： 这个 有 办法 检测 它 好坏 吗 ？ | 技师 说 ： [ 语音 ] | 车主 说 ： 谢谢 | 技师 说 ： 不 客气'"
      ]
     },
     "execution_count": 43,
     "metadata": {},
     "output_type": "execute_result"
    }
   ],
   "source": [
    "result[lq+1]"
   ]
  },
  {
   "cell_type": "markdown",
   "metadata": {},
   "source": [
    "## 2.2. THULAC"
   ]
  },
  {
   "cell_type": "code",
   "execution_count": 45,
   "metadata": {},
   "outputs": [
    {
     "name": "stdout",
     "output_type": "stream",
     "text": [
      "Model loaded succeed\n"
     ]
    }
   ],
   "source": [
    "import thulac\n",
    "\n",
    "thulac = thulac.thulac(user_dict='car_dict.txt', seg_only=True)"
   ]
  },
  {
   "cell_type": "code",
   "execution_count": 48,
   "metadata": {},
   "outputs": [
    {
     "data": {
      "text/plain": [
       "'技师 说 ： 你 这个 有 没 有 电脑 检测 故障 代码 。 | 车主 说 ： 有 | 技师 说 ： 发 一下 | 车主 说 ： 发动机 之前 亮故 障灯 、 显示 是 失火 、 有 点 缺 缸 、 现在 又 没有 故障 、 发动机 多少 有 点 抖动 、 检查 先前 的 故障 是 报 这个 故障 | 车主 说 ： 稍 等 | 车主 说 ： 显示 图片 太 大 传 不了| 技师 说 ： [ 语音 ] | 车主 说 ： 这个 对 发动机 的 抖动 、 失火 、 缺 缸 有 直接 联系 吗 ？ | 技师 说 ： [ 语音 ] | 车主 说 ： 还有 就 是 报 （ 左右 排气凸轮轴 作动 电磁铁 ） 对 正极 短路 、 对 地 短路 、 对 导线 断路 | 技师 说 ： [ 语音 ] | 车主 说 ： 这 几 个 电磁阀 和 问 您 的 第一 个 故障 有 直接 关系 吧| 技师 说 ： [ 语音 ] | 车主 说 ： 这个 有 办法 检测 它 好坏 吗 ？ | 技师 说 ： [ 语音 ] | 车主 说 ： 谢谢 | 技师 说 ： 不 客气'"
      ]
     },
     "execution_count": 48,
     "metadata": {},
     "output_type": "execute_result"
    },
    {
     "data": {
      "text/plain": [
       "'技师 说 ： 你 这个 有没有 电脑 检测 故障 代码 。 | 车主 说 ： 有 | 技师 说 ： 发 一下 | 车主 说 ： 发动机 之前 亮 故障 灯 、 显示 是 失火 、 有点 缺缸 、 现在 又 没有 故障 、 发动机 多少 有点 抖动 、 检查 先前 的 故障 是 报 这个 故障 | 车主 说 ： 稍 等 | 车主 说 ： 显示 图片 太大传 不了 | 技师 说 ： [ 语音 ] | 车主 说 ： 这个 对 发动机 的 抖动 、 失火 、 缺缸 有 直接 联系 吗 ？ | 技师 说 ： [ 语音 ] | 车主 说 ： 还有 就是 报 （ 左右 排气凸轮轴 作动 电磁铁 ） 对 正极 短路 、 对 地 短路 、 对 导线 断路 | 技师 说 ： [ 语音 ] | 车主 说 ： 这 几个 电磁阀 和 问 您 的 第一个 故障 有 直接 关系 吧 | 技师 说 ： [ 语音 ] | 车主 说 ： 这个 有 办法 检测 它 好坏 吗 ？ | 技师 说 ： [ 语音 ] | 车主 说 ： 谢谢 | 技师 说 ： 不 客气'"
      ]
     },
     "execution_count": 48,
     "metadata": {},
     "output_type": "execute_result"
    }
   ],
   "source": [
    "thulac.cut(corpus[lq+1], text=True)\n",
    "result_dict[lq+1]"
   ]
  },
  {
   "cell_type": "markdown",
   "metadata": {},
   "source": [
    "## 2.3. 哈工大LTP（3.6的文件中跑的结果，放这对比）\n",
    "\n",
    "\n",
    "'技师 说 ： 你 这个 有 没 有 电脑 检测 故障 代码 。 | 车主 说 ： 有 | 技师 说 ： 发 一下 | 车主 说 ： 发动机 之前 亮 故障灯 、 显示 是 失火 、 有点 缺 缸 、 现在 又 没有 故障 、 发动机 多少 有 点 抖动 、 检查 先前 的 故障 是 报 这个 故障 | 车主 说 ： 稍 等 | 车主 说 ： 显示 图片 太 大 传 不 了 | 技师 说 ： [ 语音 ] | 车主 说 ： 这个 对 发动机 的 抖动 、 失火 、 缺缸 有 直接 联系 吗 ？ | 技师 说 ： [ 语音 ] | 车主 说 ： 还有 就 是 报 （ 左右 排气凸轮轴 作动 电磁铁 ） 对 正极 短路 、 对 地 短路 、 对 导线 断路 | 技师 说 ： [ 语音 ] | 车主 说 ： 这 几 个 电磁阀 和 问 您 的 第一 个 故障 有 直接 关系 吧 | 技师 说 ： [ 语音 ] | 车主 说 ： 这个 有 办法 检测 它 好坏 吗 ？ | 技师 说 ： [ 语音 ] | 车主 说 ： 谢谢 | 技师 说 ： 不 客气'"
   ]
  },
  {
   "cell_type": "markdown",
   "metadata": {},
   "source": [
    "## 2.4. HanLP"
   ]
  },
  {
   "cell_type": "code",
   "execution_count": 8,
   "metadata": {},
   "outputs": [
    {
     "name": "stdout",
     "output_type": "stream",
     "text": [
      "[你好/vl, ，/w, 欢迎/v, 在/p, Python/nx, 中/f, 调用/v, HanLP/nx, 的/ude1, API/nx]\n"
     ]
    }
   ],
   "source": [
    "from pyhanlp import *\n",
    "print(HanLP.segment('你好，欢迎在Python中调用HanLP的API'))"
   ]
  },
  {
   "cell_type": "code",
   "execution_count": 9,
   "metadata": {},
   "outputs": [
    {
     "name": "stdout",
     "output_type": "stream",
     "text": [
      "('/Users/mac/opt/miniconda3/lib/python3.7/site-packages/pyhanlp/static/data/dictionary/custom/CustomDictionary.txt', '/Users/mac/opt/miniconda3/lib/python3.7/site-packages/pyhanlp/static/data/dictionary/custom/car_dict.txt', '/Users/mac/opt/miniconda3/lib/python3.7/site-packages/pyhanlp/static/data/dictionary/custom/现代汉语补充词库.txt', '/Users/mac/opt/miniconda3/lib/python3.7/site-packages/pyhanlp/static/data/dictionary/custom/全国地名大全.txt ns', '/Users/mac/opt/miniconda3/lib/python3.7/site-packages/pyhanlp/static/data/dictionary/custom/人名词典.txt', '/Users/mac/opt/miniconda3/lib/python3.7/site-packages/pyhanlp/static/data/dictionary/custom/机构名词典.txt', '/Users/mac/opt/miniconda3/lib/python3.7/site-packages/pyhanlp/static/data/dictionary/custom/上海地名.txt ns', '/Users/mac/opt/miniconda3/lib/python3.7/site-packages/pyhanlp/static/data/dictionary/person/nrf.txt nrf')\n"
     ]
    }
   ],
   "source": [
    "print(HanLP.Config.CustomDictionaryPath)"
   ]
  },
  {
   "cell_type": "code",
   "execution_count": 12,
   "metadata": {},
   "outputs": [
    {
     "data": {
      "text/plain": [
       "'技师 说 ： 你好 ， 4 缸 自然 吸气 发动机 N 46 是 吧 ， 先 挂 空档 再 挂 其他 档 有没有 闯 动 呢 ， 变速箱 油液 位 是 否 调整 到 正常 液位 呢 | 车主 说 ： 从 N 到 D 进 本 没有   N-R 有 ， P-R 有 ， 最主要 是 行驶 中 到 红绿灯 路口 等 红灯 停车 D-N 有 冲击 感 ， 绿灯 后 N-D 冲击 感 很小 | 技师 说 ： 第一 ， 要 把 变速箱 油 位 调整 到 标准 液位 ， 第二 ， 清除 变速箱 适应 值 ， 第 三升 级 变速箱 程序 ， 还有 遇到 过 液力 变矩器 问题 的 | 车主 说 ： 升级 变速箱 程序 是 刷 模块 吗 | 车主 说 ： 还有 个 问题 就是 停车 后 档位 在 P 挡 松开 刹车踏板 时 ， 感觉 车辆 会动 一下 | 车主 说 ： 怎样 清除 变速箱 适应 值 | 技师 说 ： 先 从 简单 的 排查 吧 ， 有可能 程序 问题 ， 也 有可能 液力 变矩器 轴头 磨损 ， 泄 压 了 ， 需要 专用 电脑 清除 变速箱 适应 值 升级 变速箱 程序 | 技师 说 ： 换 变速箱 油 有 焦糊 味 没 ， 变速箱油底壳 带 滤芯 的 ， 换 了 没 ， | 车主 说 ： 没有 味 ， 滤芯 换 了 | 车主 说 ： 变矩器 磨损 的 话 ， 车况 上架 4 轮 离地 换挡 位 就 没有 冲击 感 呢 | 技师 说 ： 对 ， 所以 先 从 简单 的 排查 ， 换 了 油 也 需要 也 需要 重新学习 | 车主 说 ： 没 换油 之前 就 这样 ， 是因为 有 冲击 才 换 的 油 | 技师 说 ： 换油 之前 也 是 换挡 冲击 还是 行驶 也 有 冲击 | 车主 说 ： 只是 原地 换挡 位 冲击 ， 换油 前后 行驶 都 没问题 | 技师 说 ： 多少 公里 了 ， 估计 还 是 程序 问题 ， 阀体 里 的 问题 ， 阀体 和 电脑 一体 的 | 车主 说 ： 9.3 万 公里 | 车主 说 ： 我 昨天 去 试 了 一个 4 万 多 公里 X 1   也 是 这样 是不是 通病 | 技师 说 ： 如果 是 有一点 那 是 正常 的 ， 刹车 踩 重点 也 是 吗 | 车主 说 ： 用力 踩 刹车 的 话 冲击 感 基本 没有 | 车主 说 ： 就是 用力 踩住 刹车 ， 原地 换挡 位 基本 感觉 不到 冲击 感 | 技师 说 ： 如果 是 这样 ， 行驶 没有 冲击 ， 应该 没有 问题 | 车主 说 ： 哦 哦   谢谢 | 技师 说 ： 不 客气'"
      ]
     },
     "execution_count": 12,
     "metadata": {},
     "output_type": "execute_result"
    }
   ],
   "source": [
    "result_hanlp = []\n",
    "for term in HanLP.segment(corpus[lq+2]):\n",
    "    result_hanlp.append(term.word)\n",
    "' '.join(result_hanlp)"
   ]
  },
  {
   "cell_type": "code",
   "execution_count": 13,
   "metadata": {},
   "outputs": [
    {
     "data": {
      "text/plain": [
       "'技师 说 ： 你好 ， 4 缸 自然 吸气 发动机 N46 是 吧 ， 先挂 空档 再 挂 其他 档 有没有 闯动 呢 ， 变速箱 油液 位 是否 调整 到 正常 液位 呢 | 车主 说 ： 从 N 到 D 进本 没有   N - R 有 ， P - R 有 ， 最 主要 是 行驶 中到 红绿灯 路口 等 红灯 停车 D - N 有 冲击 感 ， 绿灯 后 N - D 冲击 感 很小 | 技师 说 ： 第一 ， 要 把 变速箱 油位 调整 到 标准 液位 ， 第二 ， 清除 变速箱 适应 值 ， 第三 升级 变速箱 程序 ， 还有 遇到 过 液力 变矩器 问题 的 | 车主 说 ： 升级 变速箱 程序 是 刷 模块 吗 | 车主 说 ： 还有 个 问题 就是 停车 后 档位 在 P 挡 松开 刹车踏板 时 ， 感觉 车辆 会 动 一下 | 车主 说 ： 怎样 清除 变速箱 适应 值 | 技师 说 ： 先 从 简单 的 排查 吧 ， 有 可能 程序 问题 ， 也 有 可能 液力 变矩器 轴头 磨损 ， 泄压 了 ， 需要 专用 电脑 清除 变速箱 适应 值 升级 变速箱 程序 | 技师 说 ： 换 变速箱 油有 焦糊 味 没 ， 变速箱油底壳 带 滤芯 的 ， 换 了 没 ， | 车主 说 ： 没有 味 ， 滤芯 换 了 | 车主 说 ： 变矩器 磨损 的话 ， 车况 上架 4 轮离 地 换挡 位 就 没有 冲击 感 呢 | 技师 说 ： 对 ， 所以 先 从 简单 的 排查 ， 换 了 油 也 需要 也 需要 重新学习 | 车主 说 ： 没 换油 之前 就 这样 ， 是因为 有 冲击 才 换 的 油 | 技师 说 ： 换油 之前 也 是 换挡 冲击 还是 行驶 也 有 冲击 | 车主 说 ： 只是 原地 换挡 位 冲击 ， 换油 前后 行驶 都 没 问题 | 技师 说 ： 多少 公里 了 ， 估计 还是 程序 问题 ， 阀体 里 的 问题 ， 阀体 和 电脑 一体 的 | 车主 说 ： 9.3 万公里 | 车主 说 ： 我 昨天 去试 了 一个 4 万多公里 X1   也 是 这样 是不是 通病 | 技师 说 ： 如果 是 有 一点 那 是 正常 的 ， 刹车 踩 重点 也 是 吗 | 车主 说 ： 用力 踩 刹车 的话 冲击 感 基本 没有 | 车主 说 ： 就是 用力 踩住 刹车 ， 原地 换挡 位 基本 感觉 不到 冲击 感 | 技师 说 ： 如果 是 这样 ， 行驶 没有 冲击 ， 应该 没有 问题 | 车主 说 ： 哦 哦   谢谢 | 技师 说 ： 不 客气'"
      ]
     },
     "execution_count": 13,
     "metadata": {},
     "output_type": "execute_result"
    }
   ],
   "source": [
    "# 对比jieba\n",
    "cut(corpus[lq+2])"
   ]
  },
  {
   "cell_type": "code",
   "execution_count": null,
   "metadata": {},
   "outputs": [],
   "source": []
  },
  {
   "cell_type": "markdown",
   "metadata": {},
   "source": [
    "**综合来看**，还是jieba分词较好，其他tokenizer中文分词很多常用词语会切分开，总体还是jieba实用些"
   ]
  },
  {
   "cell_type": "markdown",
   "metadata": {},
   "source": [
    "# 三.构建Vocab"
   ]
  },
  {
   "cell_type": "markdown",
   "metadata": {},
   "source": [
    "## 3.1 描述性统计"
   ]
  },
  {
   "cell_type": "code",
   "execution_count": 16,
   "metadata": {},
   "outputs": [
    {
     "data": {
      "application/vnd.jupyter.widget-view+json": {
       "model_id": "36f78daced71465ab39b59a178c25f69",
       "version_major": 2,
       "version_minor": 0
      },
      "text/plain": [
       "HBox(children=(IntProgress(value=0, max=42), HTML(value='')))"
      ]
     },
     "metadata": {},
     "output_type": "display_data"
    },
    {
     "name": "stdout",
     "output_type": "stream",
     "text": [
      "\n"
     ]
    }
   ],
   "source": [
    "result = get_tokens(cut, corpus)"
   ]
  },
  {
   "cell_type": "code",
   "execution_count": 65,
   "metadata": {},
   "outputs": [
    {
     "data": {
      "text/plain": [
       "['奔驰']"
      ]
     },
     "execution_count": 65,
     "metadata": {},
     "output_type": "execute_result"
    }
   ],
   "source": [
    "result[0].split(' ')"
   ]
  },
  {
   "cell_type": "code",
   "execution_count": 57,
   "metadata": {},
   "outputs": [
    {
     "data": {
      "text/plain": [
       "[['奔驰'], ['奔驰'], ['宝马'], ['Jeep'], ['奔驰']]"
      ]
     },
     "execution_count": 57,
     "metadata": {},
     "output_type": "execute_result"
    }
   ],
   "source": [
    "words = [x.split(' ') for x in result]\n",
    "words[:5]"
   ]
  },
  {
   "cell_type": "code",
   "execution_count": 58,
   "metadata": {},
   "outputs": [
    {
     "name": "stdout",
     "output_type": "stream",
     "text": [
      "CPU times: user 715 ms, sys: 88.9 ms, total: 804 ms\n",
      "Wall time: 804 ms\n"
     ]
    }
   ],
   "source": [
    "%%time\n",
    "words = [x for sublist in words for x in sublist]"
   ]
  },
  {
   "cell_type": "markdown",
   "metadata": {},
   "source": [
    "**reduce完败，列表生成式太快了！**"
   ]
  },
  {
   "cell_type": "code",
   "execution_count": 59,
   "metadata": {},
   "outputs": [
    {
     "data": {
      "text/plain": [
       "['福特', '别克', '现代', '广汽传祺', '福特', '宝马', '别克', '马自达', '福特', '本田']"
      ]
     },
     "execution_count": 59,
     "metadata": {},
     "output_type": "execute_result"
    }
   ],
   "source": [
    "words[15000:15010]"
   ]
  },
  {
   "cell_type": "code",
   "execution_count": 60,
   "metadata": {},
   "outputs": [
    {
     "data": {
      "text/plain": [
       "18762555"
      ]
     },
     "execution_count": 60,
     "metadata": {},
     "output_type": "execute_result"
    }
   ],
   "source": [
    "len(words)"
   ]
  },
  {
   "cell_type": "code",
   "execution_count": 87,
   "metadata": {},
   "outputs": [
    {
     "data": {
      "text/plain": [
       "8546233"
      ]
     },
     "execution_count": 87,
     "metadata": {},
     "output_type": "execute_result"
    }
   ],
   "source": [
    "# 过滤停用词\n",
    "import glob\n",
    "from string import digits, punctuation\n",
    "\n",
    "stopwords = []\n",
    "files = glob.glob('/Users/mac/nlp/stopwords/*.txt')\n",
    "for file in files:\n",
    "    with open(file) as f:\n",
    "        stopwords.extend([x.rstrip() for x in f.readlines()])\n",
    "\n",
    "# 加入特殊符号\n",
    "stopwords.extend(list(u'[^a-zA-Z.,;《》？！“”‘’@#￥%…&×（）——+【】{};；●，。&～、|\\s:：' + digits + punctuation + '\\u4e00-\\u9fa5]+'))\n",
    "stopwords = list(set(stopwords))\n",
    "\n",
    "words = [x for x in words if x not in stopwords]\n",
    "len(words)"
   ]
  },
  {
   "cell_type": "code",
   "execution_count": 103,
   "metadata": {},
   "outputs": [],
   "source": [
    "#构建字典\n",
    "from collections import Counter\n",
    "result = sorted(Counter(words).items(),key= lambda x:(-x[1],x[0]))\n",
    "result.insert(0, ('<BOS>', -1))\n",
    "result.insert(0, ('<EOS>', -1))\n",
    "result.insert(0, ('<PAD>', -1))\n",
    "result.insert(0, ('<UNK>', -1))\n",
    "\n",
    "id2word = {i+1:x[0] for i,x in enumerate(result)}\n",
    "word2id = {x:i for i,x in id2word.items()}\n",
    "\n",
    "save_file(id2word, 'output/id2word')\n",
    "save_file(word2id, 'output/word2id')"
   ]
  },
  {
   "cell_type": "code",
   "execution_count": null,
   "metadata": {},
   "outputs": [],
   "source": []
  }
 ],
 "metadata": {
  "kernelspec": {
   "display_name": "Python 3",
   "language": "python",
   "name": "python3"
  },
  "language_info": {
   "codemirror_mode": {
    "name": "ipython",
    "version": 3
   },
   "file_extension": ".py",
   "mimetype": "text/x-python",
   "name": "python",
   "nbconvert_exporter": "python",
   "pygments_lexer": "ipython3",
   "version": "3.7.4"
  }
 },
 "nbformat": 4,
 "nbformat_minor": 4
}
