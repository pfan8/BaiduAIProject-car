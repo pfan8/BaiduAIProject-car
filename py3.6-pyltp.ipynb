{
 "cells": [
  {
   "cell_type": "code",
   "execution_count": 2,
   "metadata": {},
   "outputs": [],
   "source": [
    "import numpy as np\n",
    "import pandas as pd\n",
    "import pyltp"
   ]
  },
  {
   "cell_type": "code",
   "execution_count": 4,
   "metadata": {},
   "outputs": [],
   "source": [
    "trainSet = pd.read_csv('AutoMaster_TrainSet.csv', sep=',')\n",
    "corpus = []\n",
    "corpus.extend(trainSet.Brand.dropna().tolist())\n",
    "lb = len(corpus)\n",
    "corpus.extend(trainSet.Model.dropna().tolist())\n",
    "lm = len(corpus)\n",
    "corpus.extend(trainSet.Question.dropna().tolist())\n",
    "lq = len(corpus)\n",
    "corpus.extend(trainSet.Dialogue.dropna().tolist())\n",
    "ld = len(corpus)\n",
    "corpus.extend(trainSet.Report.dropna().tolist())\n",
    "\n",
    "\n",
    "from tqdm.notebook import tqdm\n",
    "def get_tokens(cut_func, corpus, batch_num=10000):\n",
    "    '''\n",
    "    根据tokenizer(cut_func)，对corpus进行分词\n",
    "    分batch操作，从而进度可视化\n",
    "    '''\n",
    "    result = []\n",
    "    for i in tqdm(range(0, len(corpus), batch_num)):\n",
    "        result.extend([cut_func(x) for x in corpus[i:i+batch_num]])\n",
    "    return result"
   ]
  },
  {
   "cell_type": "code",
   "execution_count": 8,
   "metadata": {},
   "outputs": [],
   "source": [
    "M_PATH = '/Users/mac/nlp/ltp_data_v3.4.0/cws.model'\n",
    "segmentor = pyltp.Segmentor()\n",
    "segmentor.load_with_lexicon(M_PATH, 'car_dict.txt')"
   ]
  },
  {
   "cell_type": "code",
   "execution_count": 9,
   "metadata": {},
   "outputs": [],
   "source": [
    "cut = lambda word : ' '.join(segmentor.segment(word))"
   ]
  },
  {
   "cell_type": "code",
   "execution_count": 10,
   "metadata": {},
   "outputs": [
    {
     "data": {
      "text/plain": [
       "'技师 说 ： 你 这个 有 没 有 电脑 检测 故障 代码 。 | 车主 说 ： 有 | 技师 说 ： 发 一下 | 车主 说 ： 发动机 之前 亮 故障灯 、 显示 是 失火 、 有点 缺 缸 、 现在 又 没有 故障 、 发动机 多少 有 点 抖动 、 检查 先前 的 故障 是 报 这个 故障 | 车主 说 ： 稍 等 | 车主 说 ： 显示 图片 太 大 传 不 了 | 技师 说 ： [ 语音 ] | 车主 说 ： 这个 对 发动机 的 抖动 、 失火 、 缺缸 有 直接 联系 吗 ？ | 技师 说 ： [ 语音 ] | 车主 说 ： 还有 就 是 报 （ 左右 排气凸轮轴 作动 电磁铁 ） 对 正极 短路 、 对 地 短路 、 对 导线 断路 | 技师 说 ： [ 语音 ] | 车主 说 ： 这 几 个 电磁阀 和 问 您 的 第一 个 故障 有 直接 关系 吧 | 技师 说 ： [ 语音 ] | 车主 说 ： 这个 有 办法 检测 它 好坏 吗 ？ | 技师 说 ： [ 语音 ] | 车主 说 ： 谢谢 | 技师 说 ： 不 客气'"
      ]
     },
     "execution_count": 10,
     "metadata": {},
     "output_type": "execute_result"
    }
   ],
   "source": [
    "cut(corpus[lq+1])"
   ]
  },
  {
   "cell_type": "code",
   "execution_count": null,
   "metadata": {},
   "outputs": [],
   "source": []
  }
 ],
 "metadata": {
  "kernelspec": {
   "display_name": "Python 3.6",
   "language": "python",
   "name": "py36"
  },
  "language_info": {
   "codemirror_mode": {
    "name": "ipython",
    "version": 3
   },
   "file_extension": ".py",
   "mimetype": "text/x-python",
   "name": "python",
   "nbconvert_exporter": "python",
   "pygments_lexer": "ipython3",
   "version": "3.6.2"
  }
 },
 "nbformat": 4,
 "nbformat_minor": 4
}
