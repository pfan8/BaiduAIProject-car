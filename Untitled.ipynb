{
 "cells": [
  {
   "cell_type": "code",
   "execution_count": 1,
   "metadata": {},
   "outputs": [
    {
     "name": "stderr",
     "output_type": "stream",
     "text": [
      "Building prefix dict from the default dictionary ...\n",
      "2019-12-29 01:42:30,042 : DEBUG : Building prefix dict from the default dictionary ...\n",
      "Loading model from cache /var/folders/w3/yc8mtbd91vs80rp79zfgk8x00000gn/T/jieba.cache\n",
      "2019-12-29 01:42:30,044 : DEBUG : Loading model from cache /var/folders/w3/yc8mtbd91vs80rp79zfgk8x00000gn/T/jieba.cache\n",
      "Loading model cost 0.647 seconds.\n",
      "2019-12-29 01:42:30,690 : DEBUG : Loading model cost 0.647 seconds.\n",
      "Prefix dict has been built succesfully.\n",
      "2019-12-29 01:42:30,691 : DEBUG : Prefix dict has been built succesfully.\n"
     ]
    }
   ],
   "source": [
    "import sys\n",
    "import numpy as np\n",
    "import pandas as pd\n",
    "from gensim.models import Word2Vec\n",
    "from gensim.models import FastText\n",
    "from gensim.models.word2vec import LineSentence\n",
    "import utils.config as config\n",
    "from utils.multi_proc_utils import parallelize\n",
    "from utils.wv_loader import get_vocab\n",
    "from utils.pickle_io import *\n",
    "import re\n",
    "import jieba\n",
    "jieba.load_userdict(config.user_dict)\n",
    "import logging"
   ]
  },
  {
   "cell_type": "code",
   "execution_count": 5,
   "metadata": {},
   "outputs": [],
   "source": [
    "def seq2seq_pre(sentence):\n",
    "    # 要加空格，否则会连接在一起\n",
    "    sentence = re.sub('车主说', ' TOKEN1 ', sentence, flags=re.MULTILINE)\n",
    "    sentence = re.sub('技师说', ' TOKEN2 ', sentence, flags=re.MULTILINE)\n",
    "    sentence = re.sub('\\[图片\\]', ' TOKEN3 ', sentence, flags=re.MULTILINE)\n",
    "    sentence = re.sub('\\[语音\\]', ' TOKEN4 ', sentence, flags=re.MULTILINE)\n",
    "    sentence = re.sub('(https|http)?:\\/\\/(\\w|\\.|\\/|\\?|\\=|\\&|\\%|#|\\-)*\\b', ' TOKEN5 ', sentence, flags=re.MULTILINE)\n",
    "    sentence = re.sub('\\|','',sentence, flags=re.MULTILINE)\n",
    "    # 训练词向量时，已加载词典到jieba，直接调用\n",
    "    words = jieba.cut(sentence)\n",
    "    return ' '.join(words)\n",
    "\n",
    "def process_seq2seq(df):\n",
    "    '''\n",
    "    seq2seq批量处理方法\n",
    "    :param df: 数据集\n",
    "    :return:处理好的数据集\n",
    "    '''\n",
    "    # 批量预处理 训练集和测试集\n",
    "    for col_name in ['Question', 'Dialogue']:\n",
    "        df[col_name] = df[col_name].apply(seq2seq_pre)\n",
    "\n",
    "    if 'Report' in df.columns:\n",
    "        # 训练集 Report 预处理\n",
    "        df['Report'] = df['Report'].apply(seq2seq_pre)\n",
    "    return df\n",
    "\n",
    "def mark_proc(sentence, max_len, vocab, update=False):\n",
    "    '''\n",
    "    < start > < end > < pad > < unk >\n",
    "    '''\n",
    "    # 0.按空格统计切分出词\n",
    "    words = sentence.strip().split(' ')\n",
    "    # 1.过滤过多空格导致的空值''\n",
    "    words = [x for x in words if len(x)]\n",
    "    # 2. 截取规定长度的词数\n",
    "    words = words[:max_len]\n",
    "    if update:\n",
    "        sentence = words\n",
    "    else:\n",
    "        # 5. 填充< unk > ,判断是否在vocab中, 不在填充 < unk >\n",
    "        sentence = [word if word in vocab else '<UNK>' for word in words]\n",
    "        # 3. 填充< start > < end >\n",
    "        sentence = ['<START>'] + sentence + ['<STOP>']\n",
    "        # 4. 判断长度，填充　< pad >\n",
    "        sentence = sentence + ['<PAD>'] * (max_len - len(words))\n",
    "    return ' '.join(sentence)\n",
    "\n",
    "def get_max_len(data):\n",
    "    \"\"\"\n",
    "    获得合适的最大长度值\n",
    "    :param data: 待统计的数据  train_df['Question']\n",
    "    :return: 最大长度值\n",
    "    \"\"\"\n",
    "    max_lens = data.apply(lambda x: x.count(' ')+1)\n",
    "    return int(np.mean(max_lens) + 2 * np.std(max_lens))"
   ]
  },
  {
   "cell_type": "code",
   "execution_count": 6,
   "metadata": {},
   "outputs": [],
   "source": [
    "train_df = pd.read_csv(config.train_data_path)\n",
    "test_df = pd.read_csv(config.test_data_path)\n",
    "train_df.dropna(subset=['Question','Dialogue','Report'], how='any', inplace=True)\n",
    "test_df.dropna(subset=['Question','Dialogue'], how='any', inplace=True)"
   ]
  },
  {
   "cell_type": "code",
   "execution_count": 7,
   "metadata": {},
   "outputs": [],
   "source": [
    "train_df = parallelize(train_df, process_seq2seq)\n",
    "test_df = parallelize(test_df, process_seq2seq)"
   ]
  },
  {
   "cell_type": "code",
   "execution_count": 8,
   "metadata": {},
   "outputs": [],
   "source": [
    "# 构建DataSet\n",
    "train_df['X'] = train_df[['Question', 'Dialogue']].apply(lambda x: ' '.join(x), axis=1)\n",
    "test_df['X'] = test_df[['Question', 'Dialogue']].apply(lambda x: ' '.join(x), axis=1)"
   ]
  },
  {
   "cell_type": "code",
   "execution_count": 9,
   "metadata": {},
   "outputs": [],
   "source": [
    "# 获取输入数据 适当的最大长度\n",
    "train_x_max_len = get_max_len(train_df['X'])\n",
    "test_x_max_len = get_max_len(test_df['X'])"
   ]
  },
  {
   "cell_type": "code",
   "execution_count": 11,
   "metadata": {},
   "outputs": [
    {
     "data": {
      "text/plain": [
       "['方向机 重 ， 助力泵 ， 方向机 都 换 了 还是 一样   TOKEN2   ：   TOKEN4     TOKEN1   ： 新 的 都 换 了   TOKEN1   ： 助力泵 ， 方向机   TOKEN2   ：   TOKEN4     TOKEN1   ： 换 了 方向机 带 的 有   TOKEN1   ：   TOKEN3     TOKEN2   ：   TOKEN4     TOKEN1   ： 有 助力 就是 重 ， 这车 要 匹配 吧   TOKEN2   ： 不 需要   TOKEN2   ： 你 这 是 更换 的 部件 有 问题   TOKEN1   ： 跑 快 了 还好 点 ， 就 倒车 重 的 很 。   TOKEN2   ： 是 非常 重 吗   TOKEN1   ： 是 的 ， 累人   TOKEN2   ：   TOKEN4     TOKEN1   ： 我 觉得 也 是 ， 可是 车主 是 以前 没 这么 重 ， 选 吧 助理 泵 换 了 不行 ， 又 把 放 向 机换 了 ， 现在 还 这样 就 不 知道 咋 和 车主 解释 。   TOKEN2   ：   TOKEN4     TOKEN2   ：   TOKEN4  ',\n",
       " '奔驰 ML500 排气凸轮轴 调节 错误   TOKEN2   ： 你 这个 有没有 电脑 检测 故障 代码 。   TOKEN1   ： 有   TOKEN2   ： 发 一下   TOKEN1   ： 发动机 之前 亮 故障 灯 、 显示 是 失火 、 有点 缺缸 、 现在 又 没有 故障 、 发动机 多少 有点 抖动 、 检查 先前 的 故障 是 报 这个 故障   TOKEN1   ： 稍 等   TOKEN1   ： 显示 图片 太大传 不了   TOKEN2   ：   TOKEN4     TOKEN1   ： 这个 对 发动机 的 抖动 、 失火 、 缺缸 有 直接 联系 吗 ？   TOKEN2   ：   TOKEN4     TOKEN1   ： 还有 就是 报 （ 左右 排气凸轮轴 作动 电磁铁 ） 对 正极 短路 、 对 地 短路 、 对 导线 断路   TOKEN2   ：   TOKEN4     TOKEN1   ： 这 几个 电磁阀 和 问 您 的 第一个 故障 有 直接 关系 吧   TOKEN2   ：   TOKEN4     TOKEN1   ： 这个 有 办法 检测 它 好坏 吗 ？   TOKEN2   ：   TOKEN4     TOKEN1   ： 谢谢   TOKEN2   ： 不 客气',\n",
       " '2010 款 宝马X1 ， 2011 年 出厂 ， 2.0 排量 ， 通用 6L45 变速箱 ， 原地 换挡 位 PRND 车辆 闯动 ， 行驶 升降 档 正常 ， 4 轮离 地 换挡 无 冲击 感 ， 更换 变速箱 油 12L 无 改变 。 试 过 一辆 2014 年 进口 X1 原地 换挡 位 也 有 冲击 感 ， 这是 什么 情况 ， 哪里 的 问题   TOKEN2   ： 你好 ， 4 缸 自然 吸气 发动机 N46 是 吧 ， 先挂 空档 再 挂 其他 档 有没有 闯动 呢 ， 变速箱 油液 位 是否 调整 到 正常 液位 呢   TOKEN1   ： 从 N 到 D 进本 没有   N - R 有 ， P - R 有 ， 最 主要 是 行驶 中到 红绿灯 路口 等 红灯 停车 D - N 有 冲击 感 ， 绿灯 后 N - D 冲击 感 很小   TOKEN2   ： 第一 ， 要 把 变速箱 油位 调整 到 标准 液位 ， 第二 ， 清除 变速箱 适应 值 ， 第三 升级 变速箱 程序 ， 还有 遇到 过 液力 变矩器 问题 的   TOKEN1   ： 升级 变速箱 程序 是 刷 模块 吗   TOKEN1   ： 还有 个 问题 就是 停车 后 档位 在 P 挡 松开 刹车踏板 时 ， 感觉 车辆 会 动 一下   TOKEN1   ： 怎样 清除 变速箱 适应 值   TOKEN2   ： 先 从 简单 的 排查 吧 ， 有 可能 程序 问题 ， 也 有 可能 液力 变矩器 轴头 磨损 ， 泄压 了 ， 需要 专用 电脑 清除 变速箱 适应 值 升级 变速箱 程序   TOKEN2   ： 换 变速箱 油有 焦糊 味 没 ， 变速箱油底壳 带 滤芯 的 ， 换 了 没 ，   TOKEN1   ： 没有 味 ， 滤芯 换 了   TOKEN1   ： 变矩器 磨损 的话 ， 车况 上架 4 轮离 地 换挡 位 就 没有 冲击 感 呢   TOKEN2   ： 对 ， 所以 先 从 简单 的 排查 ， 换 了 油 也 需要 也 需要 重新学习   TOKEN1   ： 没 换油 之前 就 这样 ， 是因为 有 冲击 才 换 的 油   TOKEN2   ： 换油 之前 也 是 换挡 冲击 还是 行驶 也 有 冲击   TOKEN1   ： 只是 原地 换挡 位 冲击 ， 换油 前后 行驶 都 没 问题   TOKEN2   ： 多少 公里 了 ， 估计 还是 程序 问题 ， 阀体 里 的 问题 ， 阀体 和 电脑 一体 的   TOKEN1   ： 9.3 万公里   TOKEN1   ： 我 昨天 去试 了 一个 4 万多公里 X1   也 是 这样 是不是 通病   TOKEN2   ： 如果 是 有 一点 那 是 正常 的 ， 刹车 踩 重点 也 是 吗   TOKEN1   ： 用力 踩 刹车 的话 冲击 感 基本 没有   TOKEN1   ： 就是 用力 踩住 刹车 ， 原地 换挡 位 基本 感觉 不到 冲击 感   TOKEN2   ： 如果 是 这样 ， 行驶 没有 冲击 ， 应该 没有 问题   TOKEN1   ： 哦 哦   谢谢   TOKEN2   ： 不 客气',\n",
       " '3.0 V6 发动机号 在 什么 位置 ， 有 照片 最好 ！   TOKEN2   ： 右侧 排气管 上方 ， 缸体 上 靠近 变速箱   TOKEN1   ：   TOKEN3     TOKEN1   ： 是不是 这个 ？   TOKEN1   ： 这个 号 不 对   TOKEN1   ：   TOKEN3     TOKEN2   ： 你 先拓 下来 跟 行车证 对下   TOKEN1   ： 对 了 ， 不是   TOKEN1   ： 你 有没有 图片 ？   TOKEN2   ： 那年 的 车   TOKEN1   ： 14 年 3.0 牧马人   TOKEN2   ： 做 前轮 这边 缸体 上   TOKEN1   ： 有没有 图片 画个 圈圈   TOKEN1   ： 要 不要 拆 什么   TOKEN1   ： ？ ？   TOKEN2   ： 不要 拆   TOKEN1   ： 都 看 了 ， 看不到 啊   TOKEN2   ：   TOKEN3     TOKEN1   ：   TOKEN3     TOKEN1   ： 这个 发动机 怎么 和 我 的 不 一样   TOKEN2   ： 你 是 客户 还是 维修 技师   TOKEN2   ： 柴油 还是 汽油 版   TOKEN1   ： 汽油   TOKEN1   ： 我 自己 的 车 ， 过户 要 用   TOKEN2   ： 你 要 找 维修 人员 ， 或者 专门 拓号 的 人   TOKEN2   ： 需要 把 车升 起来   TOKEN1   ： 找 了 ， 专业 拓号 的 ， 按 你 说 的 找 不到   TOKEN1   ： 他 也 不 知道 在 哪里',\n",
       " '2012 款 奔驰 c180 怎么样 ， 维修保养 ， 动力 ， 值得 拥有 吗   TOKEN2   ： 家庭 用车 的话 ， 还是 可以 入手 的   TOKEN2   ： 维修保养 费用 不高   TOKEN1   ： 12 年 的 180 市场价 多少 钱 现在   TOKEN1   ：   TOKEN3     TOKEN1   ： 我 想 给 我 媳妇 买   TOKEN1   ： 这个 属于 老款 吧   TOKEN2   ： 具体 要 看 车况   TOKEN1   ：   TOKEN3     TOKEN1   ： 车况 好   TOKEN2   ： 那年 的   TOKEN2   ： 上户 日期   TOKEN1   ： 2012 年 的 个人 一手 ，   TOKEN1   ： 大概 多少 钱   TOKEN1   ：   TOKEN3     TOKEN1   ： 1.6 t   TOKEN2   ： 需要 查 一下   TOKEN2   ： 15 - 16 万 之间   TOKEN1   ： 属于 180k1.6 t 的   TOKEN1   ： 应该 是 老款   TOKEN1   ： 一般 小 保养 一次 多少 钱   TOKEN2   ： 老款   TOKEN2   ： 800 .   TOKEN2   ： 全 合成 机油   TOKEN1   ： 变速箱 有 一般 多少 钱换 一次   TOKEN1   ： 油   TOKEN2   ： 六 万公里   TOKEN2   ： 价格 在 1500   TOKEN1   ： 你 说 的 价格 是 在 外面 的 修理厂 还是 四 s 店 的 价位   TOKEN2   ： 修理厂   TOKEN1   ： 嗯 嗯 我 知道 了 ， 谢谢 你 ? ?',\n",
       " '科鲁兹 变速箱 旁边 漏 机油   TOKEN2   ： 具体 是 哪个 部位 呢 ？ 是 发动机 和 变速器 正中间 位置 吗 ？   TOKEN1   ：   TOKEN3     TOKEN2   ： 这个 有 拍 的 图片 吗 ？   TOKEN1   ： 就是 中间   TOKEN1   ： 上面 的 图片 就是   TOKEN2   ： 图片 上 已经 看见 了 ， 检查 机油 有没有 缺少 的 情况 吧 ， 看见 好像 是 变速器 的 油 。   TOKEN1   ： 如果 是 变速器 漏油   应该 是 哪里 出来 问题   TOKEN1   ： 机油 不少   TOKEN2   ： 那 就是 变速器 的 油 ， 那 就要 拆开 检查一下 这个 变速器 的 一轴 ， 有 可能 是 油封 出现 的 路由 或者 是 里面 的 这个 ， 你 这个 是 自动 变速器 ， 自动 变速器 ， 还要 检查一下 这个 ， 中间 的 传动 机构 ， 液压 变距器 是不是 有 漏油 的 情况 ？   TOKEN1   ： 我 这个 是 手动挡 的   TOKEN1   ： 1.6   TOKEN2   ： 手动挡 就是 变速器 的 一轴 油封 出现 了 漏油 。   TOKEN1   ： 需要 抬 变速箱 吗 ？   工程量 大不大   TOKEN2   ： 这个 肯定 要 拆 变速箱 才能 换 ， 液压 离合器分泵 ， 没有 问题 吧 ， 都 正常 吧 ， 刹车油 不 缺少 吧   TOKEN1   ： 都 正常   TOKEN2   ： 那 就 得 拆 变速器 了 ， 大概 需要 半天 的 时间 。   TOKEN1   ： 确定 不是 机油 吗 ？   这个 是 在 外面 修   还是 4S   比较 好   TOKEN1   ： 算不算 大 问题   TOKEN1   ： 紧 一下 旁边 的 螺丝 有没有 用   TOKEN2   ： 机油 不 缺少 ， 那 就 不是 漏 的 机油 ， 因为 这个 地方 有 两个 油封 一个 事 ， 发动机 的 曲轴后油封 ， 这个 也 容易 漏 机油 ， 第二个 就是 变速器 的 一轴 油封 这个 也 是 容易 漏油 的 ， 不管 是 ， 哪个 有 问题 ， 只要 是 这 两个 问题 都 要 拆 变速箱 。   TOKEN1   ： 暂时 不修 有没有 什么 大 影响   TOKEN2   ： 这个 去 外面 修理厂 就 可以 维修 ， 手动挡 的话 ， 比较 好 拆卸 。 暂时 不 维修 的话 也 可以 ， 他 只是 往出 渗油 检查一下 变速器 油 有没有 短缺 的 。   TOKEN1   ： 好 的   如果 拆下来 方便 同时 把 这 两个 隐患 都 修 了 吗   TOKEN2   ： 是 的 ， 拆下来 看 哪个 损坏 维修 ， 哪个 不 坏 的话 就 不 需要 动它 。   TOKEN1   ： 好 的 谢谢 你   TOKEN2   ： 不 客气 ！ 祝您 用车 愉快 ！',\n",
       " '我要 怎么 才能 知道 车子 断开 电瓶 电源 之后 要 不要 做 节气门 或 防盗 ， 音响 等 的 重置 ， 还有 节气门 重置 是不是 所有 车型 都 一样 ， 打开 电源 不 启动 车子 ， 油门 踩 到底 五秒 ， 重复 几次 就 可以 了 。 其他 设备 要 密码 才行 是不是   TOKEN2   ： 你好 ！ 一般 车子 如果 断开 电瓶 头 着 车 启动 后 怠速 偏低 抖动 就是 节气门 脏 了 需要 重新 清洗 干净 节气门 后 匹配 节气门 ， 防盗 功能 一般 可以 解锁 着 车 启动 就 不会 锁止 防盗 ， 音响 能 正常 开机 就 不会 锁 ， 如果 提示 输入 密码 才能 开机 就是 锁机 了 ， 匹配 节气门 不是 所有 车型 都 一样 的 ， 有些 车型 需要 连接 汽车 电脑 才能 匹配 节气门 ， 你 可以 参考 下 ， 希望 能 帮到 你   TOKEN1   ： 一般 什么 车型 需要 电脑 匹配 节气门 ， 比如 年份 新 的 ， 或者 某些 品牌 的 ，   TOKEN1   ： 音响 要是 锁 了 ， 密码 是 在 哪里 ， 车主 手册 上 吗   TOKEN2   ： 你好 ！ 一般 中高档 车型 断电 后 需要 匹配 节气门 ， 如 大众 车系 和 本田 车型 清洗 干净 节气门 后 需要 连接 汽车 电脑 重新 匹配 节气门 ， 音响 锁 了 ， 密码 一般 是 在 音响 外壳 的 条码 上 可以 找到 密码',\n",
       " '昌河Q35 音响 怎么 拆装   TOKEN2   ： 发个 中控 图片 看看   TOKEN1   ：   TOKEN3     TOKEN2   ：   TOKEN3     TOKEN2   ： 圈起来 的 面板 吗   TOKEN1   ： 是 的   TOKEN2   ： 翘出来   TOKEN1   ： 不行   TOKEN2   ： 如图所示 没有 螺丝 了   TOKEN2   ： 新车 就是 紧   TOKEN1   ： 翘 的 要 断 了 就是 不 出来   TOKEN2   ：   TOKEN3     TOKEN2   ： 绿色 圈 的 先 拿 下来   TOKEN1   ： 上边 有 螺丝   TOKEN2   ： 你 没有 拆完 吗   TOKEN1   ：   TOKEN3     TOKEN2   ： 就是 内部 卡扣 固定',\n",
       " '长安 35 朝阳 轮胎 不要 里面 的 钢圈 。 用 我 自己 的 钢圈 多少 钱 外面 换 多少 钱   TOKEN2   ： 你 的 意思 是 就 只 更换 一个 新 的 轮胎 就 可以 吧 。   TOKEN2   ： 只 更换 单独 的 轮胎 ， 这个 价格 是 350 块钱 左右 。   TOKEN1   ： 只换 轮胎 皮皮 轮毂 是 我 自己 的 也 要 350 吗   TOKEN2   ： 是 的 ， 这个 轮胎 是 个 品牌 轮胎 ， 而且 轮胎 型号 比较 大 ， 所以 说 价格 都 比较 贵 ， 这 就是 最 便宜 的 。 你 可以 自己 在 网上 购买 ， 这个 有 200 多 的 ， 因为 他 这个 地区 不 一样 ， 价格 略有 浮动 。   TOKEN1   ： 额额 谢谢 你 的 回答 ? ? 晓得 了 。   TOKEN2   ： 不 客气 ！ 祝您 用车 愉快 ！',\n",
       " '吉利 远景 外球笼 上 那个 大 螺丝 是 顺时针 拧下来 还是 反 的   TOKEN2   ： 逆时针 旋转 松   TOKEN2   ： 这个 螺丝 就是 比较 紧   TOKEN1   ： 扳手 都 断 了   TOKEN1   ： 那就是说 和 轮胎螺丝 一样 的 拧 法 是 吗   TOKEN2   ： 是 的   TOKEN2   ： 我 拆过 的   TOKEN1   ： 嗯 嗯']"
      ]
     },
     "execution_count": 11,
     "metadata": {},
     "output_type": "execute_result"
    }
   ],
   "source": [
    "train_df['X'][:10].tolist()"
   ]
  },
  {
   "cell_type": "code",
   "execution_count": null,
   "metadata": {},
   "outputs": [],
   "source": []
  }
 ],
 "metadata": {
  "kernelspec": {
   "display_name": "kaikeba_lecture01",
   "language": "python",
   "name": "kaikeba_lecture01"
  },
  "language_info": {
   "codemirror_mode": {
    "name": "ipython",
    "version": 3
   },
   "file_extension": ".py",
   "mimetype": "text/x-python",
   "name": "python",
   "nbconvert_exporter": "python",
   "pygments_lexer": "ipython3",
   "version": "3.6.9"
  }
 },
 "nbformat": 4,
 "nbformat_minor": 4
}
